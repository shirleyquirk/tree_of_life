{
 "cells": [
  {
   "cell_type": "code",
   "execution_count": 11,
   "metadata": {
    "collapsed": false
   },
   "outputs": [],
   "source": [
    "Archaeplastida='''Archaeplastida(Rhodophyta, Glaucocystophyceae , Viridiplantae (Chlorophyta, Streptophyta (Charophyta, Embryophytae (Bryophytes (Marchantiophyta, Anthocerotophyta, Brophyta,\n",
    "Horneophytopsida), Tracheophyta (Lycopodiophyta, Euphyllophyta (Moniliformopses, Spermatophyta, \n",
    "(Gymnosperm (Pinophyta, Cycadophyta, Ginkgophyta, Gnetophyta, Pinophyta), Angiosperms)))))))'''\n",
    "'''Hacrobia(Haptophyta,Cryptophyta,Centroheliozoa,Telonemia)),SAR(Rhizaria(Cercozoa,Retaria(Foraminifera,Radiolaria)),Halvaria(Alvæolata(Ciliates,Myzozoa(Apicomplexa,Dinoflagellata)),Stramenophiles(Ochrophyta,Bigyra,Pseudofungi)))'''\n",
    "from Bio import Phylo\n",
    "from io import StringIO\n",
    "Arch=Phylo.parse(StringIO(Archaeplastida),'newick').__next__()"
   ]
  },
  {
   "cell_type": "code",
   "execution_count": 10,
   "metadata": {
    "collapsed": false
   },
   "outputs": [
    {
     "data": {
      "text/plain": [
       "17"
      ]
     },
     "execution_count": 10,
     "metadata": {},
     "output_type": "execute_result"
    }
   ],
   "source": [
    "termlist=Arch.get_terminals()\n",
    "len(termlist)"
   ]
  },
  {
   "cell_type": "code",
   "execution_count": 12,
   "metadata": {
    "collapsed": true
   },
   "outputs": [],
   "source": [
    "Phylo.draw(Arch)"
   ]
  },
  {
   "cell_type": "code",
   "execution_count": null,
   "metadata": {
    "collapsed": true
   },
   "outputs": [],
   "source": []
  }
 ],
 "metadata": {
  "kernelspec": {
   "display_name": "Python 3",
   "language": "python",
   "name": "python3"
  },
  "language_info": {
   "codemirror_mode": {
    "name": "ipython",
    "version": 3
   },
   "file_extension": ".py",
   "mimetype": "text/x-python",
   "name": "python",
   "nbconvert_exporter": "python",
   "pygments_lexer": "ipython3",
   "version": "3.5.0"
  }
 },
 "nbformat": 4,
 "nbformat_minor": 0
}
