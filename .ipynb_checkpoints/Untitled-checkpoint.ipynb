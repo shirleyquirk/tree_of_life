{
 "cells": [
  {
   "cell_type": "code",
   "execution_count": 45,
   "metadata": {
    "collapsed": false
   },
   "outputs": [],
   "source": [
    "from vec2d import Vec2D\n",
    "from cprettypath import PrettyPath,radians,g\n",
    "from random import random\n",
    "start=Vec2D(0,0)\n",
    "end=Vec2D(100,100)\n",
    "t0=Vec2D(r=144,t=radians(random()*360-180))\n",
    "t1=Vec2D(r=144,t=radians(random()*360-180))\n",
    "p=PrettyPath(start,t0,0,0)\n",
    "segs=5\n",
    "error=[]\n",
    "for x in [j/1000 for j in range(4001)]:\n",
    "    for y in [k/1000 for k in range(2500,4501)]:\n",
    "        h=g(p,(x,y),t1=t1,t0=t0,end=end,segs=segs)\n",
    "        error.append((h[0],(x,y)))\n"
   ]
  },
  {
   "cell_type": "code",
   "execution_count": 93,
   "metadata": {
    "collapsed": false
   },
   "outputs": [],
   "source": [
    "import numpy as np\n",
    "X = np.arange(0,4.00,0.001)\n",
    "Y = np.arange(2.5,4.5,0.001)\n",
    "X=np.append(X,4)\n",
    "Y=np.append(Y,4.5)"
   ]
  },
  {
   "cell_type": "code",
   "execution_count": 86,
   "metadata": {
    "collapsed": false
   },
   "outputs": [
    {
     "data": {
      "text/plain": [
       "array([  0.00000000e+00,   1.00000000e-03,   2.00000000e-03, ...,\n",
       "         3.99800000e+00,   3.99900000e+00,   4.00000000e+00])"
      ]
     },
     "execution_count": 86,
     "metadata": {},
     "output_type": "execute_result"
    }
   ],
   "source": [
    "X"
   ]
  },
  {
   "cell_type": "code",
   "execution_count": 87,
   "metadata": {
    "collapsed": false
   },
   "outputs": [
    {
     "data": {
      "text/plain": [
       "array([ 2.5  ,  2.501,  2.502, ...,  4.498,  4.499,  4.5  ])"
      ]
     },
     "execution_count": 87,
     "metadata": {},
     "output_type": "execute_result"
    }
   ],
   "source": [
    "Y"
   ]
  },
  {
   "cell_type": "code",
   "execution_count": 94,
   "metadata": {
    "collapsed": false
   },
   "outputs": [],
   "source": [
    "Z=np.meshgrid(X,Y)[0]\n",
    "X,Y = np.meshgrid(X,Y)"
   ]
  },
  {
   "cell_type": "code",
   "execution_count": 95,
   "metadata": {
    "collapsed": false
   },
   "outputs": [
    {
     "data": {
      "text/plain": [
       "array([[ 191.53479637,  191.51720916,  191.49961818, ...,  184.78665779,\n",
       "         184.78715533,  184.7874164 ],\n",
       "       [ 191.50583595,  191.48824347,  191.4706472 , ...,  184.79313754,\n",
       "         184.79349557,  184.79361755],\n",
       "       [ 191.4768634 ,  191.45926564,  191.44166409, ...,  184.79957033,\n",
       "         184.79978888,  184.7997718 ],\n",
       "       ..., \n",
       "       [  98.82493613,   98.78756468,   98.7501806 , ...,   88.17119484,\n",
       "          88.05479595,   87.93833873],\n",
       "       [  98.75340053,   98.71601077,   98.67860838, ...,   88.05248291,\n",
       "          87.93594423,   87.81934641],\n",
       "       [  98.68182853,   98.64442044,   98.60699971, ...,   87.93358171,\n",
       "          87.81690234,   87.70016301]])"
      ]
     },
     "execution_count": 95,
     "metadata": {},
     "output_type": "execute_result"
    }
   ],
   "source": [
    "for e in error:\n",
    "    Z[round(e[1][1]*1000)-2500][round(e[1][0]*1000)]=e[0]\n",
    "Z"
   ]
  },
  {
   "cell_type": "code",
   "execution_count": 29,
   "metadata": {
    "collapsed": false
   },
   "outputs": [
    {
     "data": {
      "text/plain": [
       "5.2468528446125555"
      ]
     },
     "execution_count": 29,
     "metadata": {},
     "output_type": "execute_result"
    }
   ],
   "source": [
    "np.log(max(error)[0])"
   ]
  },
  {
   "cell_type": "code",
   "execution_count": 17,
   "metadata": {
    "collapsed": false,
    "scrolled": true
   },
   "outputs": [
    {
     "name": "stdout",
     "output_type": "stream",
     "text": [
      "(1.040163995038206e-05, (8.739999999999998, 6.960000000000001)) (233.02751218091296, (9.239999999999998, -6.1899999999999995))\n",
      "8.72 6.94 7.97217105131\n",
      "8.72 6.95 6.63108952889\n",
      "8.72 6.96 5.26575383127\n",
      "8.72 6.97 3.87869368502\n",
      "8.72 6.98 2.47228315824\n",
      "8.73 6.94 5.35691452561\n",
      "8.73 6.95 4.00320445015\n",
      "8.73 6.96 2.62934193415\n",
      "8.73 6.97 1.23763985414\n",
      "8.73 6.98 0.169699913182\n",
      "8.74 6.94 2.73655853683\n",
      "8.74 6.95 1.37640972509\n",
      "8.74 6.96 1.04016399504e-05\n",
      "8.74 6.97 1.39053228726\n",
      "8.74 6.98 2.79305801223\n",
      "8.75 6.94 0.120320267448\n",
      "8.75 6.95 1.24023991963\n",
      "8.75 6.96 2.61329222514\n",
      "8.75 6.97 3.99674333039\n",
      "8.75 6.98 5.38853498947\n",
      "8.76 6.94 2.48259193048\n",
      "8.76 6.95 3.83750793235\n",
      "8.76 6.96 5.20112606977\n",
      "8.76 6.97 6.5713644212\n",
      "8.76 6.98 7.94614013063\n",
      "-1.83 4.38 1.42808199633\n",
      "-1.83 4.39 0.959388246016\n",
      "-1.83 4.4 0.488706115331\n",
      "-1.83 4.41 0.0160259000011\n",
      "-1.83 4.42 0.458662169292\n",
      "-1.82 4.38 1.18536960454\n",
      "-1.82 4.39 0.715894425259\n",
      "-1.82 4.4 0.244426305946\n",
      "-1.82 4.41 0.229044490974\n",
      "-1.82 4.42 0.704527768487\n",
      "-1.81 4.38 0.942435711933\n",
      "-1.81 4.39 0.47217652847\n",
      "-1.81 4.4 8.01726084591e-05\n",
      "-1.81 4.41 0.4743441624\n",
      "-1.81 4.42 0.95062527778\n",
      "-1.8 4.38 0.699277375249\n",
      "-1.8 4.39 0.228231598788\n",
      "-1.8 4.4 0.244816290939\n",
      "-1.8 4.41 0.719876098774\n",
      "-1.8 4.42 1.19695769571\n",
      "-1.79 4.38 0.455891628443\n",
      "-1.79 4.39 0.0159433435009\n",
      "-1.79 4.4 0.489785042575\n",
      "-1.79 4.41 0.965643307594\n",
      "-1.79 4.42 1.44352804389\n",
      "2.23 9.9 11.2801656037\n",
      "2.23 9.91 7.91201678132\n",
      "2.23 9.92 4.54151587001\n",
      "2.23 9.93 1.16796403767\n",
      "2.23 9.94 2.2093371828\n",
      "2.24 9.9 9.00777223202\n",
      "2.24 9.91 5.64066722843\n",
      "2.24 9.92 2.2707247954\n",
      "2.24 9.93 1.10275382431\n",
      "2.24 9.94 4.48046654666\n",
      "2.25 9.9 6.73602748563\n",
      "2.25 9.91 3.36962824719\n",
      "2.25 9.92 9.43745461295e-05\n",
      "2.25 9.93 3.37383874481\n",
      "2.25 9.94 6.75230192738\n",
      "2.26 9.9 4.46469449979\n",
      "2.26 9.91 1.09866153552\n",
      "2.26 9.92 2.27118115865\n",
      "2.26 9.93 5.64553125578\n",
      "2.26 9.94 9.02508467912\n",
      "2.27 9.9 2.19353394921\n",
      "2.27 9.91 1.17247350348\n",
      "2.27 9.92 4.54277722155\n",
      "2.27 9.93 7.91807389968\n",
      "2.27 9.94 11.2990580419\n"
     ]
    }
   ],
   "source": [
    "s=sorted(error)\n",
    "print(min(error),max(error))#,sorted(error)[:10])\n",
    "for e in s[:3]:\n",
    "    for dx in range(-2,3):\n",
    "        for dy in range(-2,3):\n",
    "            print((round(e[1][0]*100)+dx)/100,(round(e[1][1]*100)+dy)/100,Z[round(e[1][1]*100)+1000+dy][round(e[1][0]*100)+1000+dx])\n"
   ]
  },
  {
   "cell_type": "code",
   "execution_count": null,
   "metadata": {
    "collapsed": false,
    "scrolled": true
   },
   "outputs": [],
   "source": [
    "from mpl_toolkits.mplot3d import Axes3D\n",
    "from matplotlib import cm\n",
    "from matplotlib.ticker import LinearLocator, FormatStrFormatter\n",
    "import matplotlib.pyplot as plt\n",
    "\n",
    "fig = plt.figure()\n",
    "ax = fig.gca(projection='3d')\n",
    "surf = ax.plot_surface(X, Y, -np.log(Z), rstride=1, cstride=1, cmap=cm.coolwarm,\n",
    "        linewidth=0, antialiased=True)\n",
    "ax.set_zlim(-6, 12)\n",
    "ax.zaxis.set_major_locator(LinearLocator(10))\n",
    "ax.zaxis.set_major_formatter(FormatStrFormatter('%.02f'))\n",
    "\n",
    "fig.colorbar(surf, shrink=0.5, aspect=5)\n",
    "\n",
    "plt.show()"
   ]
  },
  {
   "cell_type": "code",
   "execution_count": 17,
   "metadata": {
    "collapsed": false
   },
   "outputs": [
    {
     "data": {
      "text/plain": [
       "[-2, -1, 0, 1, 2]"
      ]
     },
     "execution_count": 17,
     "metadata": {},
     "output_type": "execute_result"
    }
   ],
   "source": [
    "list(range(-2,3))"
   ]
  },
  {
   "cell_type": "code",
   "execution_count": 53,
   "metadata": {
    "collapsed": false
   },
   "outputs": [
    {
     "data": {
      "text/plain": [
       "178.99999999999997"
      ]
     },
     "execution_count": 53,
     "metadata": {},
     "output_type": "execute_result"
    }
   ],
   "source": [
    "import importlib,sys\n",
    "for m in ['cprettypath']:\n",
    "    if m in sys.modules.keys():\n",
    "        importlib.reload(sys.modules[m])\n",
    "from cprettypath import thetadiff,radians,degrees\n",
    "thetadiff(radians(359),0)"
   ]
  },
  {
   "cell_type": "code",
   "execution_count": 41,
   "metadata": {
    "collapsed": false
   },
   "outputs": [
    {
     "data": {
      "text/plain": [
       "178.99999999999997"
      ]
     },
     "execution_count": 41,
     "metadata": {},
     "output_type": "execute_result"
    }
   ],
   "source": [
    "degrees((radians(359)-radians(360))%np.pi)"
   ]
  },
  {
   "cell_type": "code",
   "execution_count": 51,
   "metadata": {
    "collapsed": false
   },
   "outputs": [
    {
     "data": {
      "text/plain": [
       "180.0"
      ]
     },
     "execution_count": 51,
     "metadata": {},
     "output_type": "execute_result"
    }
   ],
   "source": [
    "degrees(radians(180)%(2*np.pi)-radians(-360)%(2*np.pi))"
   ]
  },
  {
   "cell_type": "code",
   "execution_count": null,
   "metadata": {
    "collapsed": true
   },
   "outputs": [],
   "source": []
  }
 ],
 "metadata": {
  "kernelspec": {
   "display_name": "Python 3",
   "language": "python",
   "name": "python3"
  },
  "language_info": {
   "codemirror_mode": {
    "name": "ipython",
    "version": 3
   },
   "file_extension": ".py",
   "mimetype": "text/x-python",
   "name": "python",
   "nbconvert_exporter": "python",
   "pygments_lexer": "ipython3",
   "version": "3.5.1"
  }
 },
 "nbformat": 4,
 "nbformat_minor": 0
}
