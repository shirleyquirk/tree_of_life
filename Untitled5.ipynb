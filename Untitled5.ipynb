{
 "cells": [
  {
   "cell_type": "code",
   "execution_count": null,
   "metadata": {
    "collapsed": false
   },
   "outputs": [],
   "source": [
    "%display latex\n",
    "var('t','a','b','c','d')\n",
    "def k(t): return a*exp(b*t)+c*exp(-b*(t))\n",
    "def x(t): return k(t)*cos(t)\n",
    "def y(t): return k(t)*sin(t)\n",
    "\n",
    "#plot(k(t),(t,-4*pi,4*pi))\n",
    "#parametric_plot((x(t),y(t)),(t,0,4*pi))\n",
    "def dx(t): return derivative(x(t),t)\n",
    "def ddx(t): return derivative(dx(t),t)\n",
    "def dy(t): return derivative(y(t),t)\n",
    "def ddy(t): return derivative(dy(t),t)\n",
    "\n",
    "factor(expand(dx(t)*ddy(t)-dy(t)*ddx(t)))/(cos(t)^2+sin(t)^2)\n"
   ]
  },
  {
   "cell_type": "code",
   "execution_count": null,
   "metadata": {
    "collapsed": false
   },
   "outputs": [],
   "source": [
    "((b^2+1)*(exp(2*b*t)*a^2+exp(-2*b*t)*c^2-6*a*c)+8*a*c)"
   ]
  },
  {
   "cell_type": "code",
   "execution_count": null,
   "metadata": {
    "collapsed": false
   },
   "outputs": [],
   "source": [
    "var('u','t')\n",
    "x=taylor(cos(exp(u)+exp(-u)),u,0,400)\n",
    "y=taylor(sin(exp(u)+exp(-u)),u,0,400)\n",
    "#parametric_plot((integral(taylor(cos(exp(u)+exp(-u)),u,0,200),u,0,t),integral(taylor(sin(exp(u)+exp(-u)),u,0,200),u,0,t)),(t,-2*pi,2*pi))"
   ]
  },
  {
   "cell_type": "code",
   "execution_count": null,
   "metadata": {
    "collapsed": false
   },
   "outputs": [],
   "source": [
    "x(pi*1.3).numerical_approx()"
   ]
  },
  {
   "cell_type": "code",
   "execution_count": null,
   "metadata": {
    "collapsed": false,
    "scrolled": false
   },
   "outputs": [],
   "source": [
    "solve(12/10*exp(t*10)-1-100,t)[-1]"
   ]
  },
  {
   "cell_type": "code",
   "execution_count": null,
   "metadata": {
    "collapsed": false
   },
   "outputs": [],
   "source": [
    "(log(1/6*505^(1/10)*6^(9/10))).numerical_approx()"
   ]
  },
  {
   "cell_type": "code",
   "execution_count": null,
   "metadata": {
    "collapsed": false
   },
   "outputs": [],
   "source": [
    "plot(1.4*(exp(t*0.43)-exp(-t*0.43))+abs(t)/t*sqrt(4*abs(t))*exp(-abs(t/4)),(t,-10,10))+plot(t^3/10,(t,-10,10),color='red')"
   ]
  },
  {
   "cell_type": "code",
   "execution_count": null,
   "metadata": {
    "collapsed": false
   },
   "outputs": [],
   "source": [
    "plot(taylor(cos(integral(1.4*(exp(t*0.43)-exp(-t*0.43)),t)),t,0,400),(t,-5,5))+plot(taylor(sin(integral(1.4*(exp(t*0.43)-exp(-t*0.43)),t)),t,0,400),(t,-5,5))"
   ]
  },
  {
   "cell_type": "code",
   "execution_count": null,
   "metadata": {
    "collapsed": false
   },
   "outputs": [],
   "source": [
    "a=1.4\n",
    "b=0.43\n",
    "n=400\n",
    "parametric_plot((integral(taylor(cos(integral(a*(exp(t*b)-exp(-t*b)),t)),t,0,n),t),integral(taylor(sin(integral(a*(exp(t*b)-exp(-t*b)),t)),t,0,n),t)),(t,-5,5))"
   ]
  },
  {
   "cell_type": "code",
   "execution_count": null,
   "metadata": {
    "collapsed": false
   },
   "outputs": [],
   "source": [
    "a=1.3\n",
    "b=0.43\n",
    "n=400\n",
    "colors=['red','blue','green']\n",
    "sum(parametric_plot((integral(taylor(cos(integral(a*(exp(t*b)-exp(-t*b)),t)),t,0,n),t),integral(taylor(sin(integral(a*(exp(t*b)-exp(-t*b)),t)),t,0,n),t)),(t,-5,5),aspect_ratio=1,color=colors[i]) for a,i in [(1.2,0),(1.3,1),(1.4,2)] )"
   ]
  },
  {
   "cell_type": "code",
   "execution_count": null,
   "metadata": {
    "collapsed": false
   },
   "outputs": [],
   "source": [
    "a=1\n",
    "b=0.6\n",
    "n=500\n",
    "d=3\n",
    "colors=['red','blue','green']\n",
    "sum(parametric_plot((integral(taylor(cos(integral(a*(exp(t*b)-exp(-t*b)),t)),t,0,n),t),integral(taylor(sin(integral(a*(exp(t*b)-exp(-t*b)),t)),t,0,n),t)),(t,-d,d),aspect_ratio=1,color=colors[i]) for b,i in [(0.99,2)] )"
   ]
  },
  {
   "cell_type": "code",
   "execution_count": null,
   "metadata": {
    "collapsed": false
   },
   "outputs": [],
   "source": [
    "var('t')\n",
    "\n",
    "n=450\n",
    "\n",
    "colors=['red','blue','green','purple']\n",
    "\n",
    "#3.14*(exp(t*0.25)-exp(-t*0.25))\n",
    "#19/18*t-t^3/11+t^5/130\n",
    "b=0.43\n",
    "c=0.01\n",
    "d=1.4\n",
    "a=(math.pi-2*c/d)*b/2\n",
    "#v=[a*(exp(t*b)-exp(-t*b))+c*(exp(t*d)-exp(-t*d)),19/18*t-t^3/11+t^5/130,-t^3/12+19/18*t+t^5/240+t^7/5040,-t^3/12+19/18*t+t^5/(factorial(5)*2)+t^7/(factorial(7))+2*t^9/(factorial(9))+4*t^11/factorial(11)]\n",
    "w=a*(exp(t*b)-exp(-t*b))+c*(exp(t*d)-exp(-t*d))\n",
    "#sum(plot(w,(t,-d,d),color=colors[idx]) for idx,w in enumerate(v))\n",
    "#v[0],v[1]\n",
    "#p=sum(parametric_plot((integral(taylor(cos(integral(w,t)),t,0,n),t)+idx,integral(taylor(sin(integral(w,t)),t,0,n),t)),(t,-5,5),aspect_ratio=1,color=colors[idx],plot_points=400,ymax=2,xmax=2,ymin=-2,xmin=-2) for idx,w in enumerate(v[:2]))\n",
    "v=[integral(taylor(cos(integral(w,t)),t,0,n),t),integral(taylor(sin(integral(w,t)),t,0,n),t)]\n",
    "#p=parametric_plot((integral(taylor(cos(integral(w,t)),t,0,n),t),integral(taylor(sin(integral(w,t)))))\n",
    "#show(p,xmin=-2,xmax=5)"
   ]
  },
  {
   "cell_type": "code",
   "execution_count": null,
   "metadata": {
    "collapsed": false
   },
   "outputs": [],
   "source": [
    "var('t')\n",
    "def v(n):\n",
    "    #b=43/100\n",
    "    b=0.43\n",
    "    #c=1/100\n",
    "    c=0.01\n",
    "    #d=14/10\n",
    "    d=1.4\n",
    "    a=(3.14159265358979-2*c/d)*b/2\n",
    "    w=a*(exp(t*b)-exp(-t*b))+c*(exp(t*d)-exp(-t*d))\n",
    "    return [taylor(cos(integral(w,t)),t,0,n),taylor(sin(integral(w,t)),t,0,n)]\n",
    "    return [integral(taylor(cos(integral(w,t)),t,0,n),t),integral(taylor(sin(integral(w,t)),t,0,n),t)]\n",
    "w=v(3)\n",
    "w\n",
    "#parametric_plot(v,(t,-5,5))"
   ]
  },
  {
   "cell_type": "code",
   "execution_count": 3,
   "metadata": {
    "collapsed": false
   },
   "outputs": [
    {
     "data": {
      "text/plain": [
       "power_series(0.01*%e^(1.4*_SAGE_VAR_t)+0.6723709919503763*%e^(0.43*_SAGE_VAR_t)-0.6723709919503763*%e^-(0.43*_SAGE_VAR_t)-0.01*%e^-(1.4*_SAGE_VAR_t),_SAGE_VAR_t,0)"
      ]
     },
     "execution_count": 3,
     "metadata": {},
     "output_type": "execute_result"
    }
   ],
   "source": [
    "var('t')\n",
    "b=0.43\n",
    "#c=1/100\n",
    "c=0.01\n",
    "#d=14/10\n",
    "d=1.4\n",
    "a=(3.14159265358979-2*c/d)*b/2\n",
    "w=a*(exp(t*b)-exp(-t*b))+c*(exp(t*d)-exp(-t*d))\n",
    "maxima(w).power_series(t,0)"
   ]
  },
  {
   "cell_type": "code",
   "execution_count": 8,
   "metadata": {
    "collapsed": false
   },
   "outputs": [
    {
     "data": {
      "text/plain": [
       "0.161796400913997"
      ]
     },
     "execution_count": 8,
     "metadata": {},
     "output_type": "execute_result"
    }
   ],
   "source": [
    "derivative(w,t,3)(t=0)"
   ]
  },
  {
   "cell_type": "code",
   "execution_count": 20,
   "metadata": {
    "collapsed": false
   },
   "outputs": [
    {
     "ename": "KeyboardInterrupt",
     "evalue": "",
     "output_type": "error",
     "traceback": [
      "\u001b[1;31m---------------------------------------------------------------------------\u001b[0m",
      "\u001b[1;31mKeyboardInterrupt\u001b[0m                         Traceback (most recent call last)",
      "\u001b[1;32m<ipython-input-20-74bcb7d4bd23>\u001b[0m in \u001b[0;36m<module>\u001b[1;34m()\u001b[0m\n\u001b[0;32m     12\u001b[0m \u001b[0ma\u001b[0m\u001b[1;33m=\u001b[0m\u001b[1;33m(\u001b[0m\u001b[0mpi\u001b[0m\u001b[1;33m-\u001b[0m\u001b[0mInteger\u001b[0m\u001b[1;33m(\u001b[0m\u001b[1;36m2\u001b[0m\u001b[1;33m)\u001b[0m\u001b[1;33m*\u001b[0m\u001b[0mc\u001b[0m\u001b[1;33m/\u001b[0m\u001b[0md\u001b[0m\u001b[1;33m)\u001b[0m\u001b[1;33m*\u001b[0m\u001b[0mb\u001b[0m\u001b[1;33m/\u001b[0m\u001b[0mInteger\u001b[0m\u001b[1;33m(\u001b[0m\u001b[1;36m2\u001b[0m\u001b[1;33m)\u001b[0m\u001b[1;33m\u001b[0m\u001b[0m\n\u001b[0;32m     13\u001b[0m \u001b[0mn\u001b[0m\u001b[1;33m=\u001b[0m\u001b[0mInteger\u001b[0m\u001b[1;33m(\u001b[0m\u001b[1;36m100\u001b[0m\u001b[1;33m)\u001b[0m\u001b[1;33m\u001b[0m\u001b[0m\n\u001b[1;32m---> 14\u001b[1;33m \u001b[0mv\u001b[0m\u001b[1;33m=\u001b[0m\u001b[1;33m(\u001b[0m\u001b[0mmytaylor\u001b[0m\u001b[1;33m(\u001b[0m\u001b[0mcos\u001b[0m\u001b[1;33m(\u001b[0m\u001b[0mintegral\u001b[0m\u001b[1;33m(\u001b[0m\u001b[0ma\u001b[0m\u001b[1;33m*\u001b[0m\u001b[1;33m(\u001b[0m\u001b[0mexp\u001b[0m\u001b[1;33m(\u001b[0m\u001b[0mt\u001b[0m\u001b[1;33m*\u001b[0m\u001b[0mb\u001b[0m\u001b[1;33m)\u001b[0m\u001b[1;33m-\u001b[0m\u001b[0mexp\u001b[0m\u001b[1;33m(\u001b[0m\u001b[1;33m-\u001b[0m\u001b[0mt\u001b[0m\u001b[1;33m*\u001b[0m\u001b[0mb\u001b[0m\u001b[1;33m)\u001b[0m\u001b[1;33m)\u001b[0m\u001b[1;33m+\u001b[0m\u001b[0mc\u001b[0m\u001b[1;33m*\u001b[0m\u001b[1;33m(\u001b[0m\u001b[0mexp\u001b[0m\u001b[1;33m(\u001b[0m\u001b[0mt\u001b[0m\u001b[1;33m*\u001b[0m\u001b[0md\u001b[0m\u001b[1;33m)\u001b[0m\u001b[1;33m-\u001b[0m\u001b[0mexp\u001b[0m\u001b[1;33m(\u001b[0m\u001b[1;33m-\u001b[0m\u001b[0mt\u001b[0m\u001b[1;33m*\u001b[0m\u001b[0md\u001b[0m\u001b[1;33m)\u001b[0m\u001b[1;33m)\u001b[0m\u001b[1;33m,\u001b[0m\u001b[0mt\u001b[0m\u001b[1;33m)\u001b[0m\u001b[1;33m)\u001b[0m\u001b[1;33m,\u001b[0m\u001b[0mn\u001b[0m\u001b[1;33m)\u001b[0m\u001b[1;33m,\u001b[0m\u001b[0mmytaylor\u001b[0m\u001b[1;33m(\u001b[0m\u001b[0msin\u001b[0m\u001b[1;33m(\u001b[0m\u001b[0mintegral\u001b[0m\u001b[1;33m(\u001b[0m\u001b[0ma\u001b[0m\u001b[1;33m*\u001b[0m\u001b[1;33m(\u001b[0m\u001b[0mexp\u001b[0m\u001b[1;33m(\u001b[0m\u001b[0mt\u001b[0m\u001b[1;33m*\u001b[0m\u001b[0mb\u001b[0m\u001b[1;33m)\u001b[0m\u001b[1;33m-\u001b[0m\u001b[0mexp\u001b[0m\u001b[1;33m(\u001b[0m\u001b[1;33m-\u001b[0m\u001b[0mt\u001b[0m\u001b[1;33m*\u001b[0m\u001b[0mb\u001b[0m\u001b[1;33m)\u001b[0m\u001b[1;33m)\u001b[0m\u001b[1;33m+\u001b[0m\u001b[0mc\u001b[0m\u001b[1;33m*\u001b[0m\u001b[1;33m(\u001b[0m\u001b[0mexp\u001b[0m\u001b[1;33m(\u001b[0m\u001b[0mt\u001b[0m\u001b[1;33m*\u001b[0m\u001b[0md\u001b[0m\u001b[1;33m)\u001b[0m\u001b[1;33m-\u001b[0m\u001b[0mexp\u001b[0m\u001b[1;33m(\u001b[0m\u001b[1;33m-\u001b[0m\u001b[0mt\u001b[0m\u001b[1;33m*\u001b[0m\u001b[0md\u001b[0m\u001b[1;33m)\u001b[0m\u001b[1;33m)\u001b[0m\u001b[1;33m,\u001b[0m\u001b[0mt\u001b[0m\u001b[1;33m)\u001b[0m\u001b[1;33m)\u001b[0m\u001b[1;33m,\u001b[0m\u001b[0mn\u001b[0m\u001b[1;33m)\u001b[0m\u001b[1;33m)\u001b[0m\u001b[1;33m\u001b[0m\u001b[0m\n\u001b[0m",
      "\u001b[1;32m<ipython-input-20-74bcb7d4bd23>\u001b[0m in \u001b[0;36mmytaylor\u001b[1;34m(expression, order)\u001b[0m\n\u001b[0;32m      2\u001b[0m     \u001b[0mret\u001b[0m\u001b[1;33m=\u001b[0m\u001b[0mInteger\u001b[0m\u001b[1;33m(\u001b[0m\u001b[1;36m0\u001b[0m\u001b[1;33m)\u001b[0m\u001b[1;33m\u001b[0m\u001b[0m\n\u001b[0;32m      3\u001b[0m     \u001b[1;32mfor\u001b[0m \u001b[0mo\u001b[0m \u001b[1;32min\u001b[0m \u001b[0mrange\u001b[0m\u001b[1;33m(\u001b[0m\u001b[0morder\u001b[0m\u001b[1;33m)\u001b[0m\u001b[1;33m:\u001b[0m\u001b[1;33m\u001b[0m\u001b[0m\n\u001b[1;32m----> 4\u001b[1;33m         \u001b[0mret\u001b[0m\u001b[1;33m+=\u001b[0m\u001b[0mderivative\u001b[0m\u001b[1;33m(\u001b[0m\u001b[0mexpression\u001b[0m\u001b[1;33m,\u001b[0m\u001b[0mt\u001b[0m\u001b[1;33m,\u001b[0m\u001b[0mo\u001b[0m\u001b[1;33m)\u001b[0m\u001b[1;33m(\u001b[0m\u001b[0mt\u001b[0m\u001b[1;33m=\u001b[0m\u001b[0mInteger\u001b[0m\u001b[1;33m(\u001b[0m\u001b[1;36m0\u001b[0m\u001b[1;33m)\u001b[0m\u001b[1;33m)\u001b[0m\u001b[1;33m/\u001b[0m\u001b[0mfactorial\u001b[0m\u001b[1;33m(\u001b[0m\u001b[0mo\u001b[0m\u001b[1;33m)\u001b[0m\u001b[1;33m*\u001b[0m\u001b[0mt\u001b[0m\u001b[1;33m**\u001b[0m\u001b[0mo\u001b[0m\u001b[1;33m\u001b[0m\u001b[0m\n\u001b[0m\u001b[0;32m      5\u001b[0m     \u001b[1;32mreturn\u001b[0m \u001b[0mret\u001b[0m\u001b[1;33m\u001b[0m\u001b[0m\n\u001b[0;32m      6\u001b[0m \u001b[0mb\u001b[0m\u001b[1;33m=\u001b[0m\u001b[0mInteger\u001b[0m\u001b[1;33m(\u001b[0m\u001b[1;36m43\u001b[0m\u001b[1;33m)\u001b[0m\u001b[1;33m/\u001b[0m\u001b[0mInteger\u001b[0m\u001b[1;33m(\u001b[0m\u001b[1;36m100\u001b[0m\u001b[1;33m)\u001b[0m\u001b[1;33m\u001b[0m\u001b[0m\n",
      "\u001b[1;32m/usr/lib/python2.7/site-packages/sage/calculus/functional.pyc\u001b[0m in \u001b[0;36mderivative\u001b[1;34m(f, *args, **kwds)\u001b[0m\n\u001b[0;32m    128\u001b[0m     \"\"\"\n\u001b[0;32m    129\u001b[0m     \u001b[1;32mtry\u001b[0m\u001b[1;33m:\u001b[0m\u001b[1;33m\u001b[0m\u001b[0m\n\u001b[1;32m--> 130\u001b[1;33m         \u001b[1;32mreturn\u001b[0m \u001b[0mf\u001b[0m\u001b[1;33m.\u001b[0m\u001b[0mderivative\u001b[0m\u001b[1;33m(\u001b[0m\u001b[1;33m*\u001b[0m\u001b[0margs\u001b[0m\u001b[1;33m,\u001b[0m \u001b[1;33m**\u001b[0m\u001b[0mkwds\u001b[0m\u001b[1;33m)\u001b[0m\u001b[1;33m\u001b[0m\u001b[0m\n\u001b[0m\u001b[0;32m    131\u001b[0m     \u001b[1;32mexcept\u001b[0m \u001b[0mAttributeError\u001b[0m\u001b[1;33m:\u001b[0m\u001b[1;33m\u001b[0m\u001b[0m\n\u001b[0;32m    132\u001b[0m         \u001b[1;32mpass\u001b[0m\u001b[1;33m\u001b[0m\u001b[0m\n",
      "\u001b[1;32msage/symbolic/expression.pyx\u001b[0m in \u001b[0;36msage.symbolic.expression.Expression.derivative (/build/sagemath/src/sage-6.8/src/build/cythonized/sage/symbolic/expression.cpp:22479)\u001b[1;34m()\u001b[0m\n",
      "\u001b[1;32msage/misc/derivative.pyx\u001b[0m in \u001b[0;36msage.misc.derivative.multi_derivative (/build/sagemath/src/sage-6.8/src/build/cythonized/sage/misc/derivative.c:2865)\u001b[1;34m()\u001b[0m\n",
      "\u001b[1;32msage/symbolic/expression.pyx\u001b[0m in \u001b[0;36msage.symbolic.expression.Expression._derivative (/build/sagemath/src/sage-6.8/src/build/cythonized/sage/symbolic/expression.cpp:22999)\u001b[1;34m()\u001b[0m\n",
      "\u001b[1;32msage/symbolic/pynac.pyx\u001b[0m in \u001b[0;36msage.symbolic.pynac.py_gcd (/build/sagemath/src/sage-6.8/src/build/cythonized/sage/symbolic/pynac.cpp:8858)\u001b[1;34m()\u001b[0m\n",
      "\u001b[1;32m/usr/lib/python2.7/site-packages/sage/rings/arith.pyc\u001b[0m in \u001b[0;36mgcd\u001b[1;34m(a, b, **kwargs)\u001b[0m\n\u001b[0;32m   1487\u001b[0m \u001b[0msigma\u001b[0m \u001b[1;33m=\u001b[0m \u001b[0mSigma\u001b[0m\u001b[1;33m(\u001b[0m\u001b[1;33m)\u001b[0m\u001b[1;33m\u001b[0m\u001b[0m\n\u001b[0;32m   1488\u001b[0m \u001b[1;33m\u001b[0m\u001b[0m\n\u001b[1;32m-> 1489\u001b[1;33m \u001b[1;32mdef\u001b[0m \u001b[0mgcd\u001b[0m\u001b[1;33m(\u001b[0m\u001b[0ma\u001b[0m\u001b[1;33m,\u001b[0m \u001b[0mb\u001b[0m\u001b[1;33m=\u001b[0m\u001b[0mNone\u001b[0m\u001b[1;33m,\u001b[0m \u001b[1;33m**\u001b[0m\u001b[0mkwargs\u001b[0m\u001b[1;33m)\u001b[0m\u001b[1;33m:\u001b[0m\u001b[1;33m\u001b[0m\u001b[0m\n\u001b[0m\u001b[0;32m   1490\u001b[0m     r\"\"\"\n\u001b[0;32m   1491\u001b[0m     \u001b[0mThe\u001b[0m \u001b[0mgreatest\u001b[0m \u001b[0mcommon\u001b[0m \u001b[0mdivisor\u001b[0m \u001b[0mof\u001b[0m \u001b[0ma\u001b[0m \u001b[1;32mand\u001b[0m \u001b[0mb\u001b[0m\u001b[1;33m,\u001b[0m \u001b[1;32mor\u001b[0m \u001b[1;32mif\u001b[0m \u001b[0ma\u001b[0m \u001b[1;32mis\u001b[0m \u001b[0ma\u001b[0m \u001b[0mlist\u001b[0m \u001b[1;32mand\u001b[0m \u001b[0mb\u001b[0m \u001b[1;32mis\u001b[0m\u001b[1;33m\u001b[0m\u001b[0m\n",
      "\u001b[1;31mKeyboardInterrupt\u001b[0m: "
     ]
    }
   ],
   "source": [
    "def mytaylor(expression,order):\n",
    "    ret=0\n",
    "    for o in range(order):\n",
    "        ret+=derivative(expression,t,o)(t=0)/factorial(o)*t^o\n",
    "    return ret\n",
    "b=43/100\n",
    "#b=0.43\n",
    "c=1/100\n",
    "#c=0.01\n",
    "d=14/10\n",
    "#d=1.4\n",
    "a=(pi-2*c/d)*b/2\n",
    "n=100\n",
    "v=(mytaylor(cos(integral(a*(exp(t*b)-exp(-t*b))+c*(exp(t*d)-exp(-t*d)),t)),n),mytaylor(sin(integral(a*(exp(t*b)-exp(-t*b))+c*(exp(t*d)-exp(-t*d)),t)),n))"
   ]
  },
  {
   "cell_type": "code",
   "execution_count": null,
   "metadata": {
    "collapsed": true
   },
   "outputs": [],
   "source": []
  },
  {
   "cell_type": "code",
   "execution_count": null,
   "metadata": {
    "collapsed": false
   },
   "outputs": [],
   "source": [
    "b=0.43\n",
    "c=0.01\n",
    "d=1.4\n",
    "plot(19/18*t-t^3/11+t^5/130,(t,0,5))+plot((3.14159-2*c/d)*b/2*(exp(t*b)-exp(-t*b))+c*(exp(t*d)-exp(-t*d)),(t,0,5),color='purple')"
   ]
  },
  {
   "cell_type": "code",
   "execution_count": null,
   "metadata": {
    "collapsed": false
   },
   "outputs": [],
   "source": [
    "sum(plot(b*(exp(a*t)-exp(-a*t)),(t,-5,5)) for a,b in [(1,1),(1,0.5),(1,1.5)])"
   ]
  },
  {
   "cell_type": "code",
   "execution_count": null,
   "metadata": {
    "collapsed": false
   },
   "outputs": [],
   "source": [
    "theta(t)"
   ]
  },
  {
   "cell_type": "code",
   "execution_count": null,
   "metadata": {
    "collapsed": true
   },
   "outputs": [],
   "source": [
    "#when t=0 theta=(2a/b)\n",
    "# we define theta(0) to be n*pi/2\n",
    "a=b*pi/2"
   ]
  },
  {
   "cell_type": "code",
   "execution_count": null,
   "metadata": {
    "collapsed": false
   },
   "outputs": [],
   "source": [
    "a=5\n",
    "b=-10\n",
    "'''del a\n",
    "del b\n",
    "reset('a')\n",
    "reset('b')\n",
    "var('a','b')\n",
    "'''\n",
    "def sq(t):return a*t^3+b*t^2\n",
    "plot(-a*t^3+b^2*t/3*a,(t,-5,5))\n",
    "#b*x^2+c*x^3+a\n",
    "#sq(t-b/(3*a))+b^3/(9*a^2)*(1/3-1)"
   ]
  },
  {
   "cell_type": "code",
   "execution_count": null,
   "metadata": {
    "collapsed": false
   },
   "outputs": [],
   "source": [
    "sum(plot((-t^3+b*t)*exp(-sqrt(t^2)*0.5),(t,-5,5),color=(0.25*a,1+a/15,-a/15),legend_label=a) for a,b in [(10,10),(20,20),(5,5)])"
   ]
  },
  {
   "cell_type": "code",
   "execution_count": null,
   "metadata": {
    "collapsed": false
   },
   "outputs": [],
   "source": [
    "plot((-t^3+2*t)*exp(-sqrt(t^2)*0.5)+0.2*(exp(0.9*t)-exp(-0.9*t)),(t,-0,1))"
   ]
  },
  {
   "cell_type": "code",
   "execution_count": null,
   "metadata": {
    "collapsed": false
   },
   "outputs": [],
   "source": [
    "%display latex\n",
    "def tay(u,o): return der\n",
    "    def __ne__(self, other):ivative(u,t,o)\n",
    "[tay(sqrt(a*t)*exp(-t/a),2)]"
   ]
  },
  {
   "cell_type": "code",
   "execution_count": null,
   "metadata": {
    "collapsed": false
   },
   "outputs": [],
   "source": [
    "factorial(7),factorial(5)"
   ]
  },
  {
   "cell_type": "code",
   "execution_count": null,
   "metadata": {
    "collapsed": false
   },
   "outputs": [],
   "source": [
    "p=[0,\n",
    " 0,\n",
    " 0.0057195497609568175,\n",
    " 0.0,\n",
    " 0.0,\n",
    " -0.4744514337630732,\n",
    " 0.7658640588006814,\n",
    " -1.7642395657963932,\n",
    " 2.2440986454313925,\n",
    " -1.6680327946066198,\n",
    " 0.72668158479812,\n",
    " 0.08916205337826592,\n",
    " -1.229358149516236,\n",
    " 4.870532275805959,\n",
    " -14.703650418159208,\n",
    " 36.944275235049915,\n",
    " -78.53572491316967,\n",
    " 141.82866495898952,\n",
    " -218.92105613152881,\n",
    " 288.2874616554676,\n",
    " -317.9672975813124,\n",
    " 274.95420822711355,\n",
    " -126.47571793096199,\n",
    " -184.15671929577547,\n",
    " 782.7624762082686,\n",
    " -1899.5878361052219,\n",
    " 3854.9984775686726,\n",
    " -6964.269017894091,\n",
    " 11353.19174062534,\n",
    " -16720.091589435462,\n",
    " 22128.416896492145,\n",
    " -25917.510675024263,\n",
    " 25734.27301010157,\n",
    " -18538.599291539325,\n",
    " 342.7436866953889,\n",
    " 34427.24212072068,\n",
    " -93663.49428987555,\n",
    " 187639.4687782804,\n",
    " -327414.8450673301,\n",
    " 520840.4051839697,\n",
    " -766061.8937040593,\n",
    " 1043072.0132451514,\n",
    " -1304043.299502201,\n",
    " 1462719.448940425,\n",
    " -1382649.4391925337,\n",
    " 865049.2703105456,\n",
    " 358662.22815612186,\n",
    " -2616774.3323108894,\n",
    " 6248379.228913651,\n",
    " -11492203.981739208,\n",
    " 18301759.707691956,\n",
    " -26105793.24733966,\n",
    " 33576763.299231306,\n",
    " -38510732.38503847,\n",
    " 37935775.76441383,\n",
    " -28531454.667369995,\n",
    " 7353401.7270551035,\n",
    " 27265804.26781681,\n",
    " -74881463.36127122,\n",
    " 132458755.52978289,\n",
    " -194489938.0015269,\n",
    " 253787190.49441597,\n",
    " -302815532.66021806,\n",
    " 335234660.93764955,\n",
    " -347223511.15573657,\n",
    " 338211807.0075632,\n",
    " -310825865.24871653,\n",
    " 270103559.7129547,\n",
    " -222251251.6912093,\n",
    " 173324308.07232973,\n",
    " -128182263.48737611,\n",
    " 89928364.12191677,\n",
    " -59860144.913316146,\n",
    " 37806654.17127779,\n",
    " -22654990.71844968,\n",
    " 12878581.134100644,\n",
    " -6943798.077412536,\n",
    " 3550126.1040942916,\n",
    " -1720593.9759666065,\n",
    " 790221.5481619779,\n",
    " -343779.3999806223,\n",
    " 141602.5564128078,\n",
    " -55194.42878305781,\n",
    " 20346.754543293377,\n",
    " -7088.930949706242,\n",
    " 2332.5208657176745,\n",
    " -724.2067293782002,\n",
    " 211.97265714728823,\n",
    " -58.42722889711281,\n",
    " 15.14784001721339,\n",
    " -3.6889690799045978,\n",
    " 0.8426092469153947,\n",
    " -0.18021130874445443,\n",
    " 0.03602041307845102,\n",
    " -0.006714248650432288,\n",
    " 0.0011643356099091701,\n",
    " -0.0001873266302938919,\n",
    " 2.7874279376087502e-05,\n",
    " -3.822390046326235e-06,\n",
    " 4.810609751867534e-07,\n",
    " -5.5298787966900986e-08,\n",
    " 5.7735012964464395e-09,\n",
    " -5.438476500207608e-10,\n",
    " 4.585172353612914e-11,\n",
    " -3.426397219110042e-12,\n",
    " 2.2420970594480806e-13,\n",
    " -1.265000393777445e-14,\n",
    " 6.029960231990204e-16,\n",
    " -2.361635667284633e-17,\n",
    " 7.297562980755937e-19,\n",
    " -1.6684011452864366e-20,\n",
    " 2.509271987931165e-22,\n",
    " -1.8625170632638212e-24]\n",
    "plot(Poly(p)._(s),(s,0,1))"
   ]
  },
  {
   "cell_type": "code",
   "execution_count": null,
   "metadata": {
    "collapsed": false
   },
   "outputs": [],
   "source": [
    "pi=(Poly(cp_coefs[3])).integrate()\n",
    "#pi[0]+=t0\n",
    "#theta=pi._(c0)+(-1 if c0<0 else 1)*pi\n",
    "betterpath.cos([0,0,1],5)"
   ]
  },
  {
   "cell_type": "code",
   "execution_count": null,
   "metadata": {
    "collapsed": false
   },
   "outputs": [],
   "source": [
    "var('s','c0','c1','t0','cp')\n",
    "reset('c')\n",
    "var('c')\n",
    "cp= (-1.9725284471326745*c^4 + 30.72960253996115*c^(7/2) - 197.71047470772697*c^3 + 687.1636010204859*c^(5/2) - 1404.1007506919298*c^2 + 1714.0820183315698*c^(3/2) - 1207.4722602675247*c + 443.68947209312006*sqrt(c) - 62.580107479280976)\n",
    "integrate(cp,c)\n",
    "#c=c0+(c1-c0)*sp\n",
    "#def theta(s,c0,c1,t0): return t0+_th(c)-_th(c0)\n",
    "def _th(c): return -0.3945056894265349*c^5 + 6.82880056443581*c^(9/2) - 49.42761867693174*c^4 + 196.33245743442453*c^(7/2) - 468.03358356397655*c^3 + 685.632807332628*c^(5/2) - 603.7361301337623*c^2 + 295.79298139541334*c^(3/2) - 62.580107479280976*c\n",
    "def theta(s,c0,c1,t0): return t0+_th(abs(c0+(c1-c0)*s))-_th(abs(c0))\n",
    "theta(1,-10,0,0).numerical_approx()"
   ]
  },
  {
   "cell_type": "code",
   "execution_count": null,
   "metadata": {
    "collapsed": false
   },
   "outputs": [],
   "source": [
    "var('s')\n",
    "print(betterpath.cos([0,0,1],4))\n",
    "taylor(cos(s),s,0,5)"
   ]
  },
  {
   "cell_type": "code",
   "execution_count": null,
   "metadata": {
    "collapsed": false
   },
   "outputs": [],
   "source": [
    "from betterpath import Poly\n",
    "Poly([1,0,1/2,0,-1/2]).as_f_of(Poly([1,0,1]))"
   ]
  },
  {
   "cell_type": "code",
   "execution_count": null,
   "metadata": {
    "collapsed": false
   },
   "outputs": [],
   "source": [
    "var('c')\n",
    "c=s+1\n",
    "expand(1-(c)^2/2+c/2)"
   ]
  },
  {
   "cell_type": "code",
   "execution_count": null,
   "metadata": {
    "collapsed": false
   },
   "outputs": [],
   "source": [
    "order=4\n",
    "ret=betterpath.Poly([0]*(4*order-3))\n",
    "for i in range(order):\n",
    "    ret[4*i]=(-1)**i/math.factorial(2*i)\n",
    "    print(i,math.factorial(2*i),ret[4*i])\n",
    "ret"
   ]
  },
  {
   "cell_type": "code",
   "execution_count": null,
   "metadata": {
    "collapsed": false
   },
   "outputs": [],
   "source": [
    "self=Poly([1,0,1])\n",
    "other=Poly([0,0,1])\n",
    "ret=Poly([0])\n",
    "for idx,s in enumerate(self):\n",
    "    if (idx//2)!=idx/2:\n",
    "        if s!=0:#half power coefficients must be zero\n",
    "            print(\"Half Power Coefficients Must be Zero\")\n",
    "            ret=None\n",
    "            break\n",
    "    else:\n",
    "        print (str(s)+'*'+str(other)+'^'+str(idx/2)+'='+str(s*(other**(int(idx/2)))))\n",
    "        ret=ret+s*(other**(int(idx/2)))\n",
    "ret"
   ]
  },
  {
   "cell_type": "code",
   "execution_count": null,
   "metadata": {
    "collapsed": false
   },
   "outputs": [],
   "source": [
    "p=[[(0.0, 0.0),\n",
    "  (0.09397719047068556, 0.1687421746912191),\n",
    "  (0.13549026960836336, 0.41248645149319235),\n",
    "  (0.17700334874604115, 0.6562307282951656),\n",
    "  (0.2709805392167267, 0.8249729029863847)],\n",
    " [(-0.0, -0.0),\n",
    "  (-0.09397719047068556, -0.1687421746912191),\n",
    "  (-0.13549026960836336, -0.41248645149319235),\n",
    "  (-0.17700334874604115, -0.6562307282951656),\n",
    "  (-0.2709805392167267, -0.8249729029863847)],\n",
    " [(-0.0, -0.0),\n",
    "  (0.2173052306689447, -0.1709621969400572),\n",
    "  (1.178347414551923, -0.6739766864443185),\n",
    "  (3.6843122241783424, -2.268338708619808),\n",
    "  (9.064023805368459, -6.573296782195674)],\n",
    " [(0.0, 0.0),\n",
    "  (-0.2173052306689447, 0.1709621969400572),\n",
    "  (-1.178347414551923, 0.6739766864443185),\n",
    "  (-3.6843122241783424, 2.268338708619808),\n",
    "  (-9.064023805368459, 6.573296782195674)]]\n",
    "q=sum([list_plot(p[i],color=('red','green','blue','purple')[i%4],plotjoined=True) for i in range(len(p))])\n",
    "show(q)\n"
   ]
  },
  {
   "cell_type": "code",
   "execution_count": 96,
   "metadata": {
    "collapsed": false
   },
   "outputs": [
    {
     "ename": "TypeError",
     "evalue": "list() takes at most 1 argument (2 given)",
     "output_type": "error",
     "traceback": [
      "\u001b[1;31m---------------------------------------------------------------------------\u001b[0m",
      "\u001b[1;31mTypeError\u001b[0m                                 Traceback (most recent call last)",
      "\u001b[1;32m<ipython-input-96-587546c55fc4>\u001b[0m in \u001b[0;36m<module>\u001b[1;34m()\u001b[0m\n\u001b[0;32m      2\u001b[0m     \u001b[1;32mdef\u001b[0m \u001b[0m__new__\u001b[0m\u001b[1;33m(\u001b[0m\u001b[0mself\u001b[0m\u001b[1;33m,\u001b[0m\u001b[1;33m*\u001b[0m\u001b[0margs\u001b[0m\u001b[1;33m)\u001b[0m\u001b[1;33m:\u001b[0m\u001b[1;33m\u001b[0m\u001b[0m\n\u001b[0;32m      3\u001b[0m         \u001b[1;32mreturn\u001b[0m \u001b[0mlist\u001b[0m\u001b[1;33m.\u001b[0m\u001b[0m__new__\u001b[0m\u001b[1;33m(\u001b[0m\u001b[0mself\u001b[0m\u001b[1;33m,\u001b[0m\u001b[1;33m[\u001b[0m\u001b[0margs\u001b[0m\u001b[1;33m[\u001b[0m\u001b[1;36m0\u001b[0m\u001b[1;33m]\u001b[0m\u001b[1;33m,\u001b[0m\u001b[0margs\u001b[0m\u001b[1;33m[\u001b[0m\u001b[1;36m1\u001b[0m\u001b[1;33m]\u001b[0m\u001b[1;33m]\u001b[0m\u001b[1;33m)\u001b[0m\u001b[1;33m\u001b[0m\u001b[0m\n\u001b[1;32m----> 4\u001b[1;33m \u001b[0mBar\u001b[0m\u001b[1;33m(\u001b[0m\u001b[1;36m0\u001b[0m\u001b[1;33m,\u001b[0m\u001b[1;36m1\u001b[0m\u001b[1;33m)\u001b[0m\u001b[1;33m\u001b[0m\u001b[0m\n\u001b[0m",
      "\u001b[1;31mTypeError\u001b[0m: list() takes at most 1 argument (2 given)"
     ]
    }
   ],
   "source": [
    "class Bar(list):\n",
    "    def __new__(self,*args):\n",
    "        return list.__new__(self,[args[0],args[1]])\n",
    "Bar(0,1)"
   ]
  },
  {
   "cell_type": "code",
   "execution_count": 276,
   "metadata": {
    "collapsed": false
   },
   "outputs": [
    {
     "data": {
      "text/plain": [
       "{'x0': 1, 'x1': 3, 'y0': 2, 'y1': 4}"
      ]
     },
     "execution_count": 276,
     "metadata": {},
     "output_type": "execute_result"
    }
   ],
   "source": [
    "from operator import itemgetter,setitem\n",
    "from collections import namedtuple\n",
    "Point=namedtuple('Point',('x','y'))\n",
    "class Rect(dict):\n",
    "    def __init__(self,*args):\n",
    "        #d={'x1':x1,'x2':x2,'y1':y1,'y2':y2}\n",
    "        super().__init__(self)\n",
    "        if len(args)==4:\n",
    "            self['x0']=args[0]\n",
    "            self['y0']=args[1]\n",
    "            self['x1']=args[2]\n",
    "            self['y1']=args[3]\n",
    "        elif len(args)==1 and type(args[0]) in (list,tuple):\n",
    "            args=args[0]\n",
    "            self['x0']=args[0]\n",
    "            self['y0']=args[1]\n",
    "            self['x1']=args[2]\n",
    "            self['y1']=args[3]\n",
    "        elif len(args)==2 and len(args[0])==2 and len(args[1])==2:\n",
    "            self['x0']=args[0][0]\n",
    "            self['y0']=args[0][1]\n",
    "            self['x1']=args[1][0]\n",
    "            self['y1']=args[1][1]\n",
    "        else:\n",
    "            return None\n",
    "\n",
    "    def _setitem_f(*args):\n",
    "        def setter(s,v):\n",
    "            if len(args)==1:\n",
    "                v=[v]\n",
    "            for v,a in zip(v,args):\n",
    "                setitem(s,a,v)\n",
    "        return setter\n",
    "    def contains(self,point):\n",
    "            if point.x>self.left and point.x<self.right and \\\n",
    "                point.y>self.top and point.y<self.bottom:\n",
    "                return True\n",
    "            else:\n",
    "                return False    \n",
    "    def overlaps(self,other):\n",
    "        if self.left<other.right and self.right>other.left and self.top<other.bottom and self.bottom>other.top:\n",
    "            return True\n",
    "        return False\n",
    "    def area(self):#sure we can have negative area, why not\n",
    "        return (self.x1-self.x0)*(self.y1-self.y0)\n",
    "    x0=property(lambda s: s.__getitem__('x0'),_setitem_f('x0'))\n",
    "    x1=property(lambda s:s.__getitem__('x1'),_setitem_f('x1'))\n",
    "    y0=property(lambda s:s.__getitem__('y0'),_setitem_f('y0'))\n",
    "    y1=property(lambda s:s.__getitem__('y1'),_setitem_f('y1'))\n",
    "    \n",
    "    p0=property(lambda s:Point(s.x0,s.y0),_setitem_f('x0','y0'))\n",
    "    p2=property(lambda s:Point(s.x1,s.y0))\n",
    "    p1=property(lambda s:Point(s.x1,s.y1),_setitem_f('x1','y1'))\n",
    "    p3=property(lambda s:Point(s.x0,s.y1))\n",
    "    left=property(lambda s: min(s.x0,s.x1))\n",
    "    right=property(lambda s: max(s.x0,s.x1))\n",
    "    top=property(lambda s: min(s.y0,s.y1))\n",
    "    bottom=property(lambda s: max(s.y0,s.y1))\n",
    "    \n",
    "f=Rect((1,2),(3,4))\n",
    "f.p1\n",
    "f"
   ]
  },
  {
   "cell_type": "code",
   "execution_count": 299,
   "metadata": {
    "collapsed": false
   },
   "outputs": [
    {
     "data": {
      "text/plain": [
       "(10715086071862673209484250490600018105614048117055336074437503883703510511249361224931983788156958581275946729175531468251871452856923140435984577574698574803934567774824230985421074605062371141877954182153046474983581941267398767559165543946077062914571196477686542167660429831652624386837205668069376,\n",
       " 402387260077093773543702433923003985719374864210714632543799910429938512398629020592044208486969404800479988610197196058631666872994808558901323829669944590997424504087073759918823627727188732519779505950995276120874975462497043601418278094646496291056393887437886487337119181045825783647849977012476632889835955735432513185323958463075557409114262417474349347553428646576611667797396668820291207379143853719588249808126867838374559731746136085379534524221586593201928090878297308431392844403281231558611036976801357304216168747609675871348312025478589320767169132448426236131412508780208000261683151027341827977704784635868170164365024153691398281264810213092761244896359928705114964975419909342221566832572080821333186116811553615836546984046708975602900950537616475847728421889679646244945160765353408198901385442487984959953319101723355556602139450399736280750137837615307127761926849034352625200015888535147331611702103968175921510907788019393178114194545257223865541461062892187960223838971476088506276862967146674697562911234082439208160153780889893964518263243671616762179168909779911903754031274622289988005195444414282012187361745992642956581746628302955570299024324153181617210465832036786906117260158783520751516284225540265170483304226143974286933061690897968482590125458327168226458066526769958652682272807075781391858178889652208164348344825993266043367660176999612831860788386150279465955131156552036093988180612138558600301435694527224206344631797460594682573103790084024432438465657245014402821885252470935190620929023136493273497565513958720559654228749774011413346962715422845862377387538230483865688976461927383814900140767310446640259899490222221765904339901886018566526485061799702356193897017860040811889729918311021171229845901641921068884387121855646124960798722908519296819372388642614839657382291123125024186649353143970137428531926649875337218940694281434118520158014123344828015051399694290153483077644569099073152433278288269864602789864321139083506217095002597389863554277196742822248757586765752344220207573630569498825087968928162753848863396909959826280956121450994871701244516461260379029309120889086942028510640182154399457156805941872748998094254742173582401063677404595741785160829230135358081840096996372524230560855903700624271243416909004153690105933983835777939410970027753472000000000000000000000000000000000000000000000000000000000000000000000000000000000000000000000000000000000000000000000000000000000000000000000000000000000000000000000000000000000000000000000000000000000000000000000000000000000000000000000000000000000)"
      ]
     },
     "execution_count": 299,
     "metadata": {},
     "output_type": "execute_result"
    }
   ],
   "source": [
    "import math\n",
    "2**1000,math.factorial(1000)"
   ]
  },
  {
   "cell_type": "code",
   "execution_count": 269,
   "metadata": {
    "collapsed": false
   },
   "outputs": [],
   "source": [
    "from math import sqrt\n",
    "def calc_box(start, curves):\n",
    "    P0 = start\n",
    "    bounds = [[P0[0]], [P0[1]]]\n",
    "\n",
    "    for c in curves:\n",
    "        P1, P2, P3 = c\n",
    "\n",
    "        bounds[0].append(P3[0])\n",
    "        bounds[1].append(P3[1])\n",
    "\n",
    "        for i in [0, 1]:\n",
    "            f = lambda t: (\n",
    "                (1-t)**3 * P0[i] \n",
    "                + 3 * (1-t)**2 * t * P1[i] \n",
    "                + 3 * (1-t) * t**2 * P2[i]\n",
    "                + t**3 * P3[i])\n",
    "\n",
    "            b = 6 * P0[i] - 12 * P1[i] + 6 * P2[i]\n",
    "            a = -3 * P0[i] + 9 * P1[i] - 9 * P2[i] + 3 * P3[i]\n",
    "            c = 3 * P1[i] - 3 * P0[i]\n",
    "\n",
    "            if a == 0:\n",
    "                if b == 0:\n",
    "                    continue\n",
    "                t = -c / b\n",
    "                if 0 < t < 1: \n",
    "                    bounds[i].append(f(t))\n",
    "                continue\n",
    "\n",
    "            b2ac = b ** 2 - 4 * c * a\n",
    "            if b2ac < 0: \n",
    "                continue\n",
    "            t1 = (-b + sqrt(b2ac))/(2 * a)\n",
    "            if 0 < t1 < 1: bounds[i].append(f(t1))\n",
    "            t2 = (-b - sqrt(b2ac))/(2 * a)\n",
    "            if 0 < t2 < 1: bounds[i].append(f(t2))\n",
    "\n",
    "        P0 = P3\n",
    "\n",
    "    x1 = min(bounds[0])\n",
    "    x2 = max(bounds[0])\n",
    "    y1 = min(bounds[1])\n",
    "    y2 = max(bounds[1]) \n",
    "    return Rect(x1, y1, x2, y2)\n",
    "#calc_box((532,333),[(117,305,28,93,265,42)])\n",
    "def interp(a,b,p=0.5):\n",
    "    try: \n",
    "        len(a)+len(b)\n",
    "    except TypeError:\n",
    "        return (a+b)*p\n",
    "    return tuple((i+j)*p for i,j in zip(a,b))\n",
    "def split_curve(start,curves):#splits list of beziers into two. each curve in the format [(c0x,c0y),(c1x,c1y)....(x,y)]\n",
    "    if type(curves) is not list:\n",
    "        curves=list(curves)\n",
    "    if type(curves[0]) is not list:\n",
    "        curves=[list(curve) for curve in curves]\n",
    "    order=len(curves[0])\n",
    "    print('order:',order)\n",
    "    one=curves[:len(curves)//2]\n",
    "    two=curves[len(curves)//2:]\n",
    "    print('one:',one)\n",
    "    print('two:',two)\n",
    "    if len(one)==len(two):\n",
    "        return [start]+one,[one[-1][-1]]+two\n",
    "    else:#second list will be longer by one. split the first curve in the second list, add first half to list1\n",
    "        one=[[start]]+one\n",
    "        curve=[one[-1][-1]]+two.pop(0)\n",
    "        print('splitting curve:',curve)\n",
    "        coll=[]\n",
    "        while curve:\n",
    "            for i in range(len(curve)-1):\n",
    "                coll.append(curve[i])\n",
    "                curve[i]=interp(curve[i],curve[i+1])\n",
    "            coll.append(curve.pop())\n",
    "        front=[]\n",
    "        idx=0\n",
    "        for i in range(order):\n",
    "            idx=idx-i-1\n",
    "            front=[coll[idx]]+front\n",
    "        #front=coll[-6],coll[-3],coll[-1]\n",
    "        back=[]\n",
    "        idx=-1\n",
    "        for i in range(order):\n",
    "            idx=idx-i-1\n",
    "            back.append(coll[idx])\n",
    "        #back=coll[-2],coll[-4],coll[-7]\n",
    "        return one.pop(0)+one+[front],[front[-1]]+[back]+two"
   ]
  },
  {
   "cell_type": "code",
   "execution_count": 288,
   "metadata": {
    "collapsed": false
   },
   "outputs": [],
   "source": [
    "def lineintersect(r1,r2):\n",
    "    #y-y0=(y1-y0)/(x1-x0)*(x-x0)\n",
    "    #y-y2=(y3-y2)/(x3-x2)*(x-x2)\n",
    "    #(y1-y0)/(x1-x0)*(x-x0)-(y3-y2)/(x3-x2)*(x-x2)=y2-y0\n",
    "    #a*(x-x0)-b*(x-x2)=y2-y0\n",
    "    #ax-ax0-bx+bx2=y2-y0\n",
    "    #(a-b)x=y2-y0-bx2+ax0\n",
    "    #x=(y2-y0-bx2+ax0)/(a-b)\n",
    "    if r1.x1==r1.x0:\n",
    "        #vertical r1.\n",
    "        x=r1.x0\n",
    "        if r2.x1==r2.x0:#parallel, possibly colinear\n",
    "                if r2.x1==r1.x1:\n",
    "                    y=sorted([r1.y0,r1.y1,r2.y0,r2.y1])\n",
    "                    return x,(y[1]+y[2])/2\n",
    "                else:\n",
    "                    return False\n",
    "        b=(r2.y1-r2.y0)/(r2.x1-r2.x0)\n",
    "        return x,b*(x-r2.x0)+r2.y0\n",
    "\n",
    "    a=(r1.y1-r1.y0)/(r1.x1-r1.x0)\n",
    "    \n",
    "    if r2.x1==r2.x0:#vertical r2\n",
    "        x=r2.x0\n",
    "        return x,a*(x-r1.x0)+r1.y0\n",
    "    \n",
    "    b=(r2.y1-r2.y0)/(r2.x1-r2.x0)\n",
    "    \n",
    "    if a==b:#colinear (parallel) lines. return midpoint of overlap? if they overlap, that is.\n",
    "        if a*(r2.x0-r1.x0)+r1.y0==r2.y0: #colinear.\n",
    "            x=sorted([r1.x0,r1.x1,r2.x0,r2.x1])\n",
    "            y=sorted([r1.y0,r1.y1,r2.y0,r2.y1])\n",
    "            return ((x[1]+x[2])/2,(y[1]+y[2])/2)\n",
    "        else:\n",
    "            return False\n",
    "    x=(r2.y0-r1.y0-b*r2.x0+a*r1.x0)/(a-b)\n",
    "    return x,a*(x-r1.x0)+r1.y0\n",
    "            \n",
    "def Intersections(path1,path2,minArea):\n",
    "    b1=calc_box(path1)\n",
    "    b2=calc_box(path2)\n",
    "    if b1.overlaps(b2):\n",
    "        if abs(b1.area)<minArea and abs(b2.area)<minArea:\n",
    "            yield lineintersect(b1,b2)\n",
    "        else:\n",
    "            a,b=split_curve(path1)\n",
    "            c,d=split_curve(path2)\n",
    "            ints=[]\n",
    "            for p1,p2 in [(a,c),(a,d),(b,c),(b,d)]:\n",
    "                ints.extend(Intersections(p1,p2))\n",
    "            for i in ints:\n",
    "                yield i\n",
    "    else:\n",
    "        return"
   ]
  },
  {
   "cell_type": "code",
   "execution_count": 295,
   "metadata": {
    "collapsed": false
   },
   "outputs": [
    {
     "data": {
      "text/plain": [
       "[]"
      ]
     },
     "execution_count": 295,
     "metadata": {},
     "output_type": "execute_result"
    }
   ],
   "source": [
    "i=[]\n",
    "def foo(i):\n",
    "    if i:\n",
    "        yield 'bar'\n",
    "    return\n",
    "i.extend(foo(False))\n",
    "i"
   ]
  },
  {
   "cell_type": "code",
   "execution_count": 291,
   "metadata": {
    "collapsed": false
   },
   "outputs": [
    {
     "data": {
      "text/plain": [
       "[None]"
      ]
     },
     "execution_count": 291,
     "metadata": {},
     "output_type": "execute_result"
    }
   ],
   "source": [
    "i"
   ]
  },
  {
   "cell_type": "code",
   "execution_count": 149,
   "metadata": {
    "collapsed": false
   },
   "outputs": [
    {
     "data": {
      "text/plain": [
       "[[2, 3], [2, 3]]"
      ]
     },
     "execution_count": 149,
     "metadata": {},
     "output_type": "execute_result"
    }
   ],
   "source": [
    "def _setitem_f(*args):\n",
    "    def setter(s,v):\n",
    "        for a in args:\n",
    "            setitem(s,a,v)\n",
    "    return setter\n",
    "f=_setitem_f(0,1)\n",
    "b=[0,1]\n",
    "f(b,[2,3])\n",
    "b"
   ]
  },
  {
   "cell_type": "code",
   "execution_count": 142,
   "metadata": {
    "collapsed": false
   },
   "outputs": [
    {
     "data": {
      "text/plain": [
       "({'x1': 0, 'x2': 1, 'y1': 2, 'y2': 3}, 0, 1, 2, 3, 0)"
      ]
     },
     "execution_count": 142,
     "metadata": {},
     "output_type": "execute_result"
    }
   ],
   "source": [
    "f,f.x1,f.x2,f.y1,f.y2"
   ]
  },
  {
   "cell_type": "code",
   "execution_count": 153,
   "metadata": {
    "collapsed": false
   },
   "outputs": [
    {
     "data": {
      "text/plain": [
       "<zip at 0x7f99a150f608>"
      ]
     },
     "execution_count": 153,
     "metadata": {},
     "output_type": "execute_result"
    }
   ],
   "source": [
    "zip([0],[1])"
   ]
  },
  {
   "cell_type": "code",
   "execution_count": null,
   "metadata": {
    "collapsed": true
   },
   "outputs": [],
   "source": []
  }
 ],
 "metadata": {
  "kernelspec": {
   "display_name": "Python 3",
   "language": "python",
   "name": "python3"
  },
  "language_info": {
   "codemirror_mode": {
    "name": "ipython",
    "version": 3
   },
   "file_extension": ".py",
   "mimetype": "text/x-python",
   "name": "python",
   "nbconvert_exporter": "python",
   "pygments_lexer": "ipython3",
   "version": "3.5.0"
  }
 },
 "nbformat": 4,
 "nbformat_minor": 0
}
