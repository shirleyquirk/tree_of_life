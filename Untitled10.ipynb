{
 "cells": [
  {
   "cell_type": "code",
   "execution_count": 1,
   "metadata": {
    "collapsed": true
   },
   "outputs": [],
   "source": [
    "Fungi='''Nucletmycea (Nuclearia, Fonticula, Rozella, Fungi (Microsporidia,\n",
    "                    Meocallimastigaceae, Chytridiomycota (Chytridiomycetes (Chytridiales, \n",
    "            Cladochytriales, Rhizophydiales, Polychytriales, Spizellomycetales, \n",
    "            Rhizophlyctidales, Lobulomycetaceae), Monoblepharidales), Blastocladiales,\n",
    "            Mucoromycotina (Mucorales, Endogone), Mortierellaceae, Entomophthorales, \n",
    "            Zoopagales, Kickxellomycotina (Asellariales, Dimargaritaceae, Harpellales,\n",
    "            Kickxellaceae, Glomeromycota (Archaeosporales, Glomeromycetes (Glomerales,\n",
    "            Diversisporales), Paraglomus)), Dikarya (Asomycota (Taphrinomycotina\n",
    "            (Archaeorhizomyces, Neolecta, Pneumocystis, Schizosaccharomyces, Taphrina), \n",
    "            Saccharomycetales, Pezizomycotina (Arthoniales, Dothideomycetes (Dothideomycetidae, \n",
    "            Pleosporomycetidae), Eurotiomycetes (Chaetothyriomycetidae, Eurotiomycetidae, \n",
    "            Mycocaliciales), Geoglossaceae, Laboulbeniomycetes, Lecanoromycetes \n",
    "            (Acarosporaceae, Lecanoromycetidae, Ostropomycetidae), Leotiomycetes,\n",
    "            Lichinomycetes, Orbiliaceae, Pezizales, Sordariomycetes (Hypocreomycetidae, \n",
    "            Sordariomycetidae, Xylariales))), Basidiomycota (Pucciniomycotina \n",
    "            (Agariocostilbomycetes, Atractiellales, Classiculales, Cryptomycocolax,\n",
    "            Cystobasidiomycetes, Microbotryomycetes, Mixia, Pucciniomycetes), \n",
    "            Ustilaginomycotina (Exobasidiomycetes, Ustilaginomycetes), Agaricomycotina \n",
    "            (Agaricomycetes (Agaricomycetidae, Phallomycetidae, Dacrymycetales, Tremellomycetes)), Entorrhizales, Wallemia)))) '''"
   ]
  },
  {
   "cell_type": "code",
   "execution_count": 4,
   "metadata": {
    "collapsed": true
   },
   "outputs": [],
   "source": [
    "from Bio import Phylo\n",
    "from io import StringIO\n",
    "fung=Phylo.parse(StringIO(Fungi),'newick').__next__()\n"
   ]
  },
  {
   "cell_type": "code",
   "execution_count": 5,
   "metadata": {
    "collapsed": false
   },
   "outputs": [
    {
     "data": {
      "text/plain": [
       "88"
      ]
     },
     "execution_count": 5,
     "metadata": {},
     "output_type": "execute_result"
    }
   ],
   "source": [
    "len(list(fung.find_clades()))"
   ]
  },
  {
   "cell_type": "code",
   "execution_count": 8,
   "metadata": {
    "collapsed": false
   },
   "outputs": [
    {
     "data": {
      "text/plain": [
       "67"
      ]
     },
     "execution_count": 8,
     "metadata": {},
     "output_type": "execute_result"
    }
   ],
   "source": [
    "len(fung.get_terminals())"
   ]
  },
  {
   "cell_type": "code",
   "execution_count": 9,
   "metadata": {
    "collapsed": true
   },
   "outputs": [],
   "source": [
    "Phylo.draw(fung)"
   ]
  },
  {
   "cell_type": "code",
   "execution_count": null,
   "metadata": {
    "collapsed": true
   },
   "outputs": [],
   "source": []
  }
 ],
 "metadata": {
  "kernelspec": {
   "display_name": "Python 3",
   "language": "python",
   "name": "python3"
  },
  "language_info": {
   "codemirror_mode": {
    "name": "ipython",
    "version": 3
   },
   "file_extension": ".py",
   "mimetype": "text/x-python",
   "name": "python",
   "nbconvert_exporter": "python",
   "pygments_lexer": "ipython3",
   "version": "3.5.0"
  }
 },
 "nbformat": 4,
 "nbformat_minor": 0
}
