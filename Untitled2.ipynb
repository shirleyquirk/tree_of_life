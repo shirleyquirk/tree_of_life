{
 "cells": [
  {
   "cell_type": "code",
   "execution_count": 11,
   "metadata": {
    "collapsed": false
   },
   "outputs": [
    {
     "data": {
      "text/plain": [
       "(Vec2D(r=100.0,θ=79.50473028360655°), 79.59296297656348)"
      ]
     },
     "execution_count": 11,
     "metadata": {},
     "output_type": "execute_result"
    }
   ],
   "source": [
    "from cprettypath import PrettyPath,radians,degrees\n",
    "from vec2d import Vec2D\n",
    "st=Vec2D(5,7)\n",
    "t0=Vec2D(r=100,t=radians(18))\n",
    "p=PrettyPath(st,t0,-3,4)\n",
    "\n",
    "p.pathpoints(5000)\n",
    "def myt1(c0,c1):\n",
    "    return (c1+c0)*((c1*c1+c0*c0)*0.1+2*0.9)/4\n",
    "p.t1,degrees(t0.t+myt1(-3,4))"
   ]
  },
  {
   "cell_type": "code",
   "execution_count": 1,
   "metadata": {
    "collapsed": true
   },
   "outputs": [],
   "source": [
    "from Bio import Phylo"
   ]
  },
  {
   "cell_type": "code",
   "execution_count": 41,
   "metadata": {
    "collapsed": false
   },
   "outputs": [],
   "source": [
    "import io\n",
    "a=io.StringIO(\"('red algae',('green algae',('charalians',('mosses','liverworts','hornworts',('lycophytes',('ferns&horsetails',('cycads','conifers',('Amborella',('water lillies',(((('rosids','asterids','cacti'),'poppies'),('laurels','magnolias')),('lillies','orchids',('palms','grasses'))))))))))))\")\n",
    "a=Phylo.read(a,'newick')"
   ]
  },
  {
   "cell_type": "code",
   "execution_count": 42,
   "metadata": {
    "collapsed": false
   },
   "outputs": [
    {
     "name": "stdout",
     "output_type": "stream",
     "text": [
      "Tree(rooted=False, weight=1.0)\n",
      "    Clade()\n",
      "        Clade(name='red algae')\n",
      "        Clade()\n",
      "            Clade(name='green algae')\n",
      "            Clade()\n",
      "                Clade(name='charalians')\n",
      "                Clade()\n",
      "                    Clade(name='mosses')\n",
      "                    Clade(name='liverworts')\n",
      "                    Clade(name='hornworts')\n",
      "                    Clade()\n",
      "                        Clade(name='lycophytes')\n",
      "                        Clade()\n",
      "                            Clade(name='ferns&horsetails')\n",
      "                            Clade()\n",
      "                                Clade(name='cycads')\n",
      "                                Clade(name='conifers')\n",
      "                                Clade()\n",
      "                                    Clade(name='Amborella')\n",
      "                                    Clade()\n",
      "                                        Clade(name='water lillies')\n",
      "                                        Clade()\n",
      "                                            Clade()\n",
      "                                                Clade()\n",
      "                                                    Clade()\n",
      "                                                        Clade(name='rosids')\n",
      "                                                        Clade(name='asterids')\n",
      "                                                        Clade(name='cacti')\n",
      "                                                    Clade(name='poppies')\n",
      "                                                Clade()\n",
      "                                                    Clade(name='laurels')\n",
      "                                                    Clade(name='magnolias')\n",
      "                                            Clade()\n",
      "                                                Clade(name='lillies')\n",
      "                                                Clade(name='orchids')\n",
      "                                                Clade()\n",
      "                                                    Clade(name='palms')\n",
      "                                                    Clade(name='grasses')\n"
     ]
    }
   ],
   "source": []
  },
  {
   "cell_type": "code",
   "execution_count": null,
   "metadata": {
    "collapsed": true
   },
   "outputs": [],
   "source": []
  },
  {
   "cell_type": "code",
   "execution_count": 43,
   "metadata": {
    "collapsed": false
   },
   "outputs": [
    {
     "data": {
      "text/plain": [
       "[Clade(name='red algae'),\n",
       " Clade(name='green algae'),\n",
       " Clade(name='charalians'),\n",
       " Clade(name='mosses'),\n",
       " Clade(name='liverworts'),\n",
       " Clade(name='hornworts'),\n",
       " Clade(name='lycophytes'),\n",
       " Clade(name='ferns&horsetails'),\n",
       " Clade(name='cycads'),\n",
       " Clade(name='conifers'),\n",
       " Clade(name='Amborella'),\n",
       " Clade(name='water lillies'),\n",
       " Clade(name='rosids'),\n",
       " Clade(name='asterids'),\n",
       " Clade(name='cacti'),\n",
       " Clade(name='poppies'),\n",
       " Clade(name='laurels'),\n",
       " Clade(name='magnolias'),\n",
       " Clade(name='lillies'),\n",
       " Clade(name='orchids'),\n",
       " Clade(name='palms'),\n",
       " Clade(name='grasses')]"
      ]
     },
     "execution_count": 43,
     "metadata": {},
     "output_type": "execute_result"
    }
   ],
   "source": [
    "a.get_terminals()"
   ]
  },
  {
   "cell_type": "markdown",
   "metadata": {
    "collapsed": true
   },
   "source": [
    "thinking about layout.\n",
    "\n",
    "lung generation sounded like sense.\n",
    "\n"
   ]
  }
 ],
 "metadata": {
  "kernelspec": {
   "display_name": "Python 3",
   "language": "python",
   "name": "python3"
  },
  "language_info": {
   "codemirror_mode": {
    "name": "ipython",
    "version": 3
   },
   "file_extension": ".py",
   "mimetype": "text/x-python",
   "name": "python",
   "nbconvert_exporter": "python",
   "pygments_lexer": "ipython3",
   "version": "3.5.0"
  }
 },
 "nbformat": 4,
 "nbformat_minor": 0
}
