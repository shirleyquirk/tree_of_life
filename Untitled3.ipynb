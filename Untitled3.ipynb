{
 "cells": [
  {
   "cell_type": "code",
   "execution_count": null,
   "metadata": {
    "collapsed": false
   },
   "outputs": [],
   "source": [
    "var('c0')\n",
    "var('c1')\n",
    "var('s')\n",
    "def c(s): return c0+(c1-c0)*s"
   ]
  },
  {
   "cell_type": "code",
   "execution_count": null,
   "metadata": {
    "collapsed": false
   },
   "outputs": [],
   "source": [
    "var('a')\n",
    "var('b')\n",
    "def cp(s): return a*c(s)**3+b*c(s)\n",
    "integrate(cp(s),s,0,s)"
   ]
  },
  {
   "cell_type": "code",
   "execution_count": null,
   "metadata": {
    "collapsed": false
   },
   "outputs": [],
   "source": [
    "expand(1/4*(c1+c0)*((c1*c1+c0*c0)*a+2*b))-expand(integrate(cp(s),s,0,1))"
   ]
  },
  {
   "cell_type": "code",
   "execution_count": null,
   "metadata": {
    "collapsed": false
   },
   "outputs": [],
   "source": [
    "var('t')\n",
    "def cpp(s):return a*c(s)**3+b*c(s)+t*sqrt(c(s))"
   ]
  },
  {
   "cell_type": "code",
   "execution_count": null,
   "metadata": {
    "collapsed": false
   },
   "outputs": [],
   "source": [
    "%display latex\n",
    "latex(integrate(cpp(s),s,0,1))"
   ]
  },
  {
   "cell_type": "code",
   "execution_count": null,
   "metadata": {
    "collapsed": false
   },
   "outputs": [],
   "source": [
    "var('u')\n",
    "integrate(maxima(cos(u)))"
   ]
  },
  {
   "cell_type": "code",
   "execution_count": null,
   "metadata": {
    "collapsed": false,
    "scrolled": false
   },
   "outputs": [],
   "source": [
    "%%latex\n",
    "'\\\\frac{3 \\\\, a c_{0}^{4} - 3 \\\\, a c_{1}^{4} + 6 \\\\, b c_{0}^{2} - 6 \\\\, b c_{1}^{2} + 8 \\\\, c_{0}^{\\\\frac{3}{2}} t - 8 \\\\, c_{1}^{\\\\frac{3}{2}} t}{12 \\\\, {\\\\left(c_{0} - c_{1}\\\\right)}}'\n"
   ]
  },
  {
   "cell_type": "code",
   "execution_count": null,
   "metadata": {
    "collapsed": false
   },
   "outputs": [],
   "source": [
    "var('t0')\n",
    "def t(s):return integrate(cp(s),s,0,s)\n",
    "a=1/10\n",
    "b=9/10\n",
    "integrate(taylor(cos(t0+t(s)),s,0,5),s)"
   ]
  },
  {
   "cell_type": "code",
   "execution_count": null,
   "metadata": {
    "collapsed": false
   },
   "outputs": [],
   "source": []
  },
  {
   "cell_type": "code",
   "execution_count": null,
   "metadata": {
    "collapsed": false
   },
   "outputs": [],
   "source": [
    "factor(c0^3+9*c0)"
   ]
  },
  {
   "cell_type": "code",
   "execution_count": null,
   "metadata": {
    "collapsed": false
   },
   "outputs": [],
   "source": [
    "var('x')\n",
    "var('a')\n",
    "var('b')\n",
    "var('c')\n",
    "var('d')\n",
    "maxima(integrate(taylor(cos(a*x^4+b*x^3+c*x^2+d*x),x,0,13),x))"
   ]
  },
  {
   "cell_type": "code",
   "execution_count": null,
   "metadata": {
    "collapsed": false
   },
   "outputs": [],
   "source": [
    "%display latex\n",
    "integrate(maxima(cos(x)).powerseries(x,0),x)"
   ]
  },
  {
   "cell_type": "code",
   "execution_count": null,
   "metadata": {
    "collapsed": false
   },
   "outputs": [],
   "source": [
    "var('p0x')\n",
    "var('p1x')\n",
    "var('p2x')\n",
    "var('p3x')\n",
    "var('a')\n",
    "var('b')\n",
    "var('t')\n",
    "var('y')\n",
    "def x(t):return p0x(1-t)^3+3*p1x(1-t)^2*t+3*p2x(1-t)*t^2+p3x*t^3\n",
    "s=solve([y==a*t^3+b*t^2],t)\n"
   ]
  },
  {
   "cell_type": "code",
   "execution_count": null,
   "metadata": {
    "collapsed": false
   },
   "outputs": [],
   "source": [
    "def tofx(a,b,x):\n",
    "    ''' solution to x=at^3+bt^2'''\n",
    "    assert(-x*(4*b*b*b-27*a*a*x)/3>=0)\n",
    "    tmp1=sqrt(-x*(4*b*b*b-27*a*a*x)/3)/(6*a*a)\n",
    "    tmp2=-tmp1\n",
    "    tmp3=(tmp1-(2*b*b*b-27*a*a*x)/(54*a*a*a))**(1/3)\n",
    "    tmp4=(tmp2-(2*b*b*b-27*a*a*x)/(54*a*a*a))**(1/3)\n",
    "    return [t-b/(3*a)+b*b/(9*a*a*t) for t in (tmp3,tmp4)]\n",
    "tightness=3#0-100 but <10, really\n",
    "curviness=7#0-10\n",
    "def yoft(t,tightness):\n",
    "    #P0y(1-t)^3+3P1y*t*(1-t)^2+3P2y*t^2*(1-t)+P3y*t^3\n",
    "    #P0y=0\n",
    "    #P3y=100\n",
    "    #P1y=tightness\n",
    "    #P2y=tightness+10\n",
    "    return 3*tightness*t*(1-t)*(1-t)+3*(tightness+10)*t*t*(1-t)+100*t*t*t\n",
    "def xoft(t,tightness,curviness):\n",
    "    #P0(1-t)^3+3P1*t*(1-t)^2+3P2*t^2+(1-t)+P3*t^3\n",
    "    #P0=0\n",
    "    #P1=0\n",
    "    P2=(tightness+10)*(10-curviness)/100+curviness\n",
    "    #P3=10\n",
    "    return 3*P2*t*t*(1-t)+10*t*t*t\n",
    "def yofx(x,tightness,curviness):\n",
    "    p2x=(tightness+10)*(10-curviness)/100+curviness\n",
    "    return yoft(tofx(10-3*p2x,3*p2x,x),tightness)\n",
    "\n",
    "#this is our new _cpp:"
   ]
  },
  {
   "cell_type": "code",
   "execution_count": null,
   "metadata": {
    "collapsed": false
   },
   "outputs": [],
   "source": [
    "#tightness=3\n",
    "#curviness=7\n",
    "#p2x=(tightness+10)*(10-curviness)/100+curviness\n",
    "p2x=739/100\n",
    "#tofx(10-3*p2x,3*p2x,0)\n",
    "a=10-3*p2x\n",
    "b=3*p2x\n"
   ]
  },
  {
   "cell_type": "code",
   "execution_count": null,
   "metadata": {
    "collapsed": false
   },
   "outputs": [],
   "source": [
    "def s1(a,b,y):\n",
    "    return (-1/2*(I*sqrt(3) + 1)*(1/6*sqrt(1/3)*sqrt(-(4*b^3 - 27*a^2*y)*y)/a^2 - 1/54*(2*b^3 - 27*a^2*y)/a^3)^(1/3) - 1/18*b^2*(-I*sqrt(3) + 1)/(a^2*(1/6*sqrt(1/3)*sqrt(-(4*b^3 - 27*a^2*y)*y)/a^2 - 1/54*(2*b^3 - 27*a^2*y)/a^3)^(1/3)) - 1/3*b/a,\n",
    "           -1/2*(I*sqrt(3) + 1)*(1/6*sqrt(1/3)*-sqrt(-(4*b^3 - 27*a^2*y)*y)/a^2 - 1/54*(2*b^3 - 27*a^2*y)/a^3)^(1/3) - 1/18*b^2*(-I*sqrt(3) + 1)/(a^2*(1/6*sqrt(1/3)*sqrt(-(4*b^3 - 27*a^2*y)*y)/a^2 - 1/54*(2*b^3 - 27*a^2*y)/a^3)^(1/3)) - 1/3*b/a)\n",
    "def s2(a,b,y):\n",
    "    return (-1/2*(-I*sqrt(3) + 1)*(1/6*sqrt(1/3)*sqrt(-(4*b^3 - 27*a^2*y)*y)/a^2 - 1/54*(2*b^3 - 27*a^2*y)/a^3)^(1/3) - 1/18*b^2*(I*sqrt(3) + 1)/(a^2*(1/6*sqrt(1/3)*sqrt(-(4*b^3 - 27*a^2*y)*y)/a^2 - 1/54*(2*b^3 - 27*a^2*y)/a^3)^(1/3)) - 1/3*b/a,\n",
    "            -1/2*(-I*sqrt(3) + 1)*(1/6*sqrt(1/3)*sqrt(-(4*b^3 - 27*a^2*y)*y)/a^2 - 1/54*(2*b^3 - 27*a^2*y)/a^3)^(1/3) - 1/18*b^2*(I*sqrt(3) + 1)/(a^2*(1/6*sqrt(1/3)*-sqrt(-(4*b^3 - 27*a^2*y)*y)/a^2 - 1/54*(2*b^3 - 27*a^2*y)/a^3)^(1/3)) - 1/3*b/a)\n",
    "def s3(a,b,y):\n",
    "    if -(4*b^3 - 27*a^2*y)*y <0:\n",
    "        return None\n",
    "    return ((1/6*sqrt(1/3)*sqrt(-(4*b^3 - 27*a^2*y)*y)/a^2 - 1/54*(2*b^3 - 27*a^2*y)/a^3)^(1/3) - 1/3*b/a + 1/9*b^2/(a^2*(1/6*sqrt(1/3)*sqrt(-(4*b^3 - 27*a^2*y)*y)/a^2 - 1/54*(2*b^3 - 27*a^2*y)/a^3)^(1/3)),\n",
    "            (1/6*sqrt(1/3)*-sqrt(-(4*b^3 - 27*a^2*y)*y)/a^2 - 1/54*(2*b^3 - 27*a^2*y)/a^3)^(1/3) - 1/3*b/a + 1/9*b^2/(a^2*(1/6*sqrt(1/3)*sqrt(-(4*b^3 - 27*a^2*y)*y)/a^2 - 1/54*(2*b^3 - 27*a^2*y)/a^3)^(1/3)))\n",
    "try:\n",
    "    print(s1(a,b,1))\n",
    "except ValueError:\n",
    "    pass\n",
    "try:\n",
    "    print(s2(a,b,1))\n",
    "except ValueError:\n",
    "    pass\n",
    "try:\n",
    "    print(s3(a,b,1))\n",
    "except ValueError:\n",
    "    pass"
   ]
  },
  {
   "cell_type": "code",
   "execution_count": null,
   "metadata": {
    "collapsed": false
   },
   "outputs": [],
   "source": [
    "-(4*b^3-27*a^2*0.1)*0.1"
   ]
  },
  {
   "cell_type": "code",
   "execution_count": null,
   "metadata": {
    "collapsed": false
   },
   "outputs": [],
   "source": [
    "a,b"
   ]
  },
  {
   "cell_type": "code",
   "execution_count": null,
   "metadata": {
    "collapsed": false,
    "scrolled": true
   },
   "outputs": [],
   "source": [
    "var('y')\n",
    "var('a')\n",
    "var('b')\n",
    "\n",
    "def tofx(a,b,y): return 1/3*((2^(1/3)*a*b^2)/(27*a^8*y-2*(a^6)*b^3+3*sqrt(3)*sqrt(27*(a^16)*y^2-4*(a^14)*(b^3)*y))^(1/3)+(27*(a^8)*y-2*(a^6)*b^3+3*sqrt(3)*sqrt(27*(a^16)*y^2-4*(a^14)*(b^3)*y))^(1/3)/((2^(1/3))*a^3))-b/(3*a) \n",
    "tofx(-1217/100,2217/100,0)"
   ]
  },
  {
   "cell_type": "code",
   "execution_count": null,
   "metadata": {
    "collapsed": false
   },
   "outputs": [],
   "source": [
    "%display latex\n",
    "reset('a')\n",
    "reset('b')\n",
    "reset('y')\n",
    "var('a')\n",
    "var('b')\n",
    "var('y')\n",
    "\n",
    "def t1(a,b,y): return 1/3*((2^(1/3)*a*b^2)/(27*a^8*y-2*(a^6)*b^3+3*sqrt(3)*sqrt(27*(a^16)*y^2-4*(a^14)*(b^3)*y))^(1/3)+(27*(a^8)*y-2*(a^6)*b^3+3*sqrt(3)*sqrt(27*(a^16)*y^2-4*(a^14)*(b^3)*y))^(1/3)/((2^(1/3))*a^3))-b/(3*a)\n",
    "def t2(a,b,y): return -((1+I*sqrt(3))*a*b^2)/(3*2^(2/3)*(27*(a^8)*y-2*(a^6)*b^3+3*sqrt(3)*sqrt(27*(a^16)*y^2-4*(a^14)*(b^3)*y))^(1/3))-((1-I*sqrt(3))*(27*a^8*y-2*a^6*b^3+3*sqrt(3)*sqrt(27*a^16*y^2-4*(a^14)*b^3*y))^(1/3))/(6*2^(1/3)*a^3)-b/(3*a)\n",
    "def t3(a,b,y): return -((1-I*sqrt(3))*a*b^2)/(3*2^(2/3)*(27*(a^8)*y-2*(a^6)*b^3+3*sqrt(3)*sqrt(27*(a^16)*y^2-4*(a^14)*(b^3)*y))^(1/3))-((1+I*sqrt(3))*(27*a^8*y-2*a^6*b^3+3*sqrt(3)*sqrt(27*a^16*y^2-4*(a^14)*b^3*y))^(1/3))/(6*2^(1/3)*a^3)-b/(3*a)\n",
    "#t1(-1217/100,2217/100,0.1)\n",
    "print(t2(-1217/100,2217/100,1/10))"
   ]
  },
  {
   "cell_type": "code",
   "execution_count": null,
   "metadata": {
    "collapsed": false
   },
   "outputs": [],
   "source": [
    "def sq(a,b,y): return sqrt(27*(a^16)*y^2-4*(a^14)*(b^3)*y)\n",
    "sq(-1217/100,2217/100,1)"
   ]
  },
  {
   "cell_type": "code",
   "execution_count": null,
   "metadata": {
    "collapsed": false
   },
   "outputs": [],
   "source": [
    "t=a x^3 + b x^2\n",
    "t= (a*x+b)x^2"
   ]
  },
  {
   "cell_type": "code",
   "execution_count": null,
   "metadata": {
    "collapsed": false
   },
   "outputs": [],
   "source": [
    "var('t')\n",
    "def det(a,b,t): return 4*b^3*t-27*a^2*t^2\n",
    "det(-1217/100,2217/100)"
   ]
  },
  {
   "cell_type": "code",
   "execution_count": null,
   "metadata": {
    "collapsed": true
   },
   "outputs": [],
   "source": [
    "def det0(b): return b^2\n",
    "def det1(a,b,t): return 2*b^3-27*a^2*t\n",
    "def C(a,b,t): return ((det1(a,b,t)+sqrt(det1(a,b,t)^2-4*det0(b)^3))/2)^(1/3)\n",
    "var('u1')\n",
    "var('u2')\n",
    "var('u3')\n",
    "def roots(a,b,x):\n",
    "    u1=1\n",
    "    u2=CDF(-1+I*sqrt(3))/2\n",
    "    u3=CDF(-1-I*sqrt(3))/2\n",
    "    Cp=C(a,b,x)\n",
    "    d0=det0(b)\n",
    "    ret=[-1/(3*a)*(b+u*Cp+d0/(u*Cp)) for u in (u1,u2,u3)]\n",
    "    return ret\n"
   ]
  },
  {
   "cell_type": "code",
   "execution_count": null,
   "metadata": {
    "collapsed": false,
    "scrolled": true
   },
   "outputs": [],
   "source": [
    "#r=roots(-1217/100,2217/100,0.5)\n",
    "#for i in r:\n",
    "    #print i.numerical_approx().abs()\n",
    "def xoft(t,tightness,curviness):\n",
    "    #P0(1-t)^3+3P1*t*(1-t)^2+3P2*t^2+(1-t)+P3*t^3\n",
    "    #P0=0\n",
    "    #P1=0\n",
    "    P2=(tightness+10)*(10-curviness)/100+curviness\n",
    "    #P3=10\n",
    "    if t<0:\n",
    "        t=-t\n",
    "        return -(3*P2*t*t*(1-t)+10*t*t*t)\n",
    "    else:\n",
    "        return 3*P2*t*t*(1-t)+10*t*t*t\n",
    "\n",
    "def roo(tight,curv,x):    \n",
    "    p2x=(tight+10)*(10-curv)/100+curv\n",
    "    a=10-3*p2x\n",
    "    b=3*p2x\n",
    "    if x<0:\n",
    "        r=roots(a,b,-x)\n",
    "        r=[-i.real() for i in r]\n",
    "    else:\n",
    "        r=roots(a,b,x)\n",
    "        r=[i.real() for i in r]\n",
    "    #check which root we want:\n",
    "    for i in reversed(r):\n",
    "        if abs(xoft(i,tight,curv)-x)<10^-10:\n",
    "            return i\n",
    "    \n",
    "    return r[-1]\n",
    "roo(3,7,x)"
   ]
  },
  {
   "cell_type": "code",
   "execution_count": null,
   "metadata": {
    "collapsed": false,
    "scrolled": false
   },
   "outputs": [],
   "source": [
    "\n",
    "biggie=roo(4,7,x.real())\n",
    "yoft(biggie,4)"
   ]
  },
  {
   "cell_type": "code",
   "execution_count": null,
   "metadata": {
    "collapsed": false
   },
   "outputs": [],
   "source": [
    "#represent any cubic bez as two quadratic bez's\n",
    "'''P0=P0,P1=P1,P4=intersection of a line between P0 and P3, and between P1 and P2'''\n",
    "then x(t)=P0(1-t)^2+2P1*t(1-t)+P4*t^2\n",
    "t(x)="
   ]
  },
  {
   "cell_type": "code",
   "execution_count": null,
   "metadata": {
    "collapsed": false
   },
   "outputs": [],
   "source": [
    "\n",
    "def intersection(p,q,r,s):\n",
    "    t = (q - p).cross(s) / (r.cross(s))\n",
    "    #u = (q − p).cross(r) / (r.cross(s))\n",
    "    return p+t*r\n",
    "tightness=3\n",
    "curviness=7\n",
    "P0=(0,0)\n",
    "P1=(0,tightness)\n",
    "P3=(10,100)\n",
    "P2=intersection(P3,Vec2D(curviness,0),Vec2D(0,tightness+10),Vec2D(10,tightness+10))\n",
    "P4=intersection(P0,P3,P1,P2)\n",
    "def xy(t):\n",
    "    if t<1:\n",
    "        xy=P0*(1-t)^2+2*P1*(1-t)*t+P4*(t^2)\n",
    "    else:\n",
    "        t-=1\n",
    "        xy=P4*(1-t)^2+2*P2*(1-t)*t+P3*t^2\n",
    "    return xy\n",
    "def t(x):\n",
    "    #x=(p0-2p1)t^2+(2p1+p4-2p0)t+p0\n",
    "    a=(P0.x-2*P1.x)\n",
    "    b=2*P1.x+P4.x-2*P0.x\n",
    "    c=P0\n",
    "    roots=((-b+sqrt(b^2-4*a*c))/(2*a),(-b-sqrt(b^2-4*a*c))/(2*a))\n"
   ]
  },
  {
   "cell_type": "code",
   "execution_count": null,
   "metadata": {
    "collapsed": false
   },
   "outputs": [],
   "source": [
    "var('p0','p1','p2','p3','p4')\n",
    "print(solve(x==p4*(1-t)^2+2*p2*(1-t)*t+p3*t^2,t)[0])"
   ]
  },
  {
   "cell_type": "code",
   "execution_count": null,
   "metadata": {
    "collapsed": false
   },
   "outputs": [],
   "source": [
    "expand(p0*(1-t)^2+2*p1*(1-t)*t+p4*t^2)"
   ]
  },
  {
   "cell_type": "code",
   "execution_count": null,
   "metadata": {
    "collapsed": false
   },
   "outputs": [],
   "source": [
    "#(p0-2*p1+p4)*t**2 + (2*p1-2*p0)*t+(p0-x)=0\n",
    "a=p0-2*p1+p4\n",
    "b=2*p1-2*p0\n",
    "c=p0-x\n",
    "(-b+sqrt(b*b-4*a*c))/(2*a)\n"
   ]
  },
  {
   "cell_type": "code",
   "execution_count": null,
   "metadata": {
    "collapsed": false
   },
   "outputs": [],
   "source": [
    "y(s)"
   ]
  },
  {
   "cell_type": "code",
   "execution_count": null,
   "metadata": {
    "collapsed": false
   },
   "outputs": [],
   "source": [
    "var('c0')\n",
    "var('c1')\n",
    "var('s')\n",
    "def c(s): return c0+(c1-c0)*s\n",
    "def x(t,p0,p1,p2,p3,p4): \n",
    "    if t<1:\n",
    "        return p0*(1-t)^2+2*p1*(1-t)*t+p4*t^2\n",
    "    else:\n",
    "        t=t-1\n",
    "        return p4*(1-t)^2+2*p2*(1-t)*t+p3*t^2\n",
    "def y(t,p0,p1,p2,p3,p4):\n",
    "    '''if t<1:\n",
    "        return p0*(1-t)^2+2*p1*(1-t)*t+p4*t^2\n",
    "    else:\n",
    "        t=t-1\n",
    "        return p4*(1-t)^2+2*p2*(1-t)*t+p3*t^2'''\n",
    "    return Piecewise([[(0,1),p0*(1-t)^2+2*p1*(1-t)*t+p4*t^2],[(1,2),p4*(1-t)^2+2*p2*(1-t)*(t)+p3*(t)^2]],t)\n",
    "def t(z,p0,p1,p2,p3,p4):\n",
    "    '''if z<p4:\n",
    "        print('less than')\n",
    "        return (p0 - p1 + sqrt(p1^2 - p0*p4 + (p0 - 2*p1 + p4)*z))/(p0 - 2*p1 + p4)\n",
    "    else:\n",
    "        print('greater than')\n",
    "        return 1 + (p2 - p4 - sqrt(p2^2 - p3*p4 - (2*p2 - p3 - p4)*z))/(2*p2 - p3 - p4)\n",
    "    '''\n",
    "    return Piecewise([[[0,p4],(p0 - p1 + sqrt(p1^2 - p0*p4 + (p0 - 2*p1 + p4)*z))/(p0 - 2*p1 + p4)],[(p4,10), 1 + (p2 - p4 - sqrt(p2^2 - p3*p4 - (2*p2 - p3 - p4)*z))/(2*p2 - p3 - p4)]],z)\n",
    "var('p_0_x','p_1_x','p_2_x','p_3_x','p_4_x','p_0_y','p_1_y','p_2_y','p_3_y','p_4_y')\n",
    "def cp(s):\n",
    "    return y(t(c(s),0,0,p_2_x,10,p_4_x),0,p_1_y,p_2_y,100,p_4_y)\n",
    "y(s,0,p_1_y,p_2_y,100,p_4_x)"
   ]
  },
  {
   "cell_type": "code",
   "execution_count": null,
   "metadata": {
    "collapsed": false
   },
   "outputs": [],
   "source": [
    "t(s,0,0,p_2_x,10,p_4_x)"
   ]
  },
  {
   "cell_type": "code",
   "execution_count": null,
   "metadata": {
    "collapsed": false
   },
   "outputs": [],
   "source": [
    "'''\\begin{cases}\n",
    "s \\ {\\mapsto}\\ \\frac{\\sqrt{p_{4_{x}} s}}{p_{4_{x}}} &\\text{on $(0, p_4_x)$}\\cr\n",
    "s \\ {\\mapsto}\\ \\frac{p_{2_{x}} - p_{4_{x}} - \\sqrt{p_{2_{x}}^{2} - {\\left(2 \\, p_{2_{x}} - p_{4_{x}} - 10\\right)} s - 10 \\, p_{4_{x}}}}{2 \\, p_{2_{x}} - p_{4_{x}} - 10} + 1 &\\text{on $(p_4_x, 10)$}\\cr\n",
    "\\end{cases}'''"
   ]
  },
  {
   "cell_type": "code",
   "execution_count": null,
   "metadata": {
    "collapsed": false
   },
   "outputs": [],
   "source": [
    "p_4_y*((p_2_x - p_4_x - sqrt(((c0 - c1)*s - c0)*(2*p_2_x - p_4_x - 10) + p_2_x^2 - 10*p_4_x))/(2*p_2_x - p_4_x - 10) - 1)^2 \n",
    "- 2*(p_2_x - p_4_x - sqrt(((c0 - c1)*s - c0)*(2*p_2_x - p_4_x - 10) + p_2_x^2 - 10*p_4_x))*p_2_y*((p_2_x - p_4_x - sqrt(((c0 - c1)*s - c0)*(2*p_2_x - p_4_x - 10) + p_2_x^2 - 10*p_4_x))/(2*p_2_x - p_4_x - 10) - 1)/(2*p_2_x - p_4_x - 10) \n",
    "+ 100*(p_2_x - p_4_x - sqrt(((c0 - c1)*s - c0)*(2*p_2_x - p_4_x - 10) + p_2_x^2 - 10*p_4_x))^2/(2*p_2_x - p_4_x - 10)^2"
   ]
  },
  {
   "cell_type": "code",
   "execution_count": null,
   "metadata": {
    "collapsed": false
   },
   "outputs": [],
   "source": [
    "p_4_y*((p_2_x - p_4_x - sqrt(((c0 - c1)*s - c0)*(2*p_2_x - p_4_x - 10) + p_2_x^2 - 10*p_4_x))/(2*p_2_x - p_4_x - 10) - 1)^2 "
   ]
  },
  {
   "cell_type": "code",
   "execution_count": null,
   "metadata": {
    "collapsed": false
   },
   "outputs": [],
   "source": [
    "- 2*(p_2_x - p_4_x - sqrt(((c0 - c1)*s - c0)*(2*p_2_x - p_4_x - 10) + p_2_x^2 - 10*p_4_x))*p_2_y*((p_2_x - p_4_x - sqrt(((c0 - c1)*s - c0)*(2*p_2_x - p_4_x - 10) + p_2_x^2 - 10*p_4_x))/(2*p_2_x - p_4_x - 10) - 1)/(2*p_2_x - p_4_x - 10) \n"
   ]
  },
  {
   "cell_type": "code",
   "execution_count": null,
   "metadata": {
    "collapsed": false,
    "scrolled": true
   },
   "outputs": [],
   "source": [
    "100*(p_2_x - p_4_x - sqrt(((c0 - c1)*s - c0)*(2*p_2_x - p_4_x - 10) + p_2_x^2 - 10*p_4_x))^2/(2*p_2_x - p_4_x - 10)^2"
   ]
  },
  {
   "cell_type": "code",
   "execution_count": null,
   "metadata": {
    "collapsed": false
   },
   "outputs": [],
   "source": [
    "def a(s):return (p_2_x - p_4_x - sqrt(((c0 - c1)*s - c0)*(2*p_2_x - p_4_x - 10) + p_2_x^2 - 10*p_4_x))/(2*p_2_x - p_4_x - 10)\n",
    "p_4_y*(a(s)-1)**2"
   ]
  },
  {
   "cell_type": "code",
   "execution_count": null,
   "metadata": {
    "collapsed": false
   },
   "outputs": [],
   "source": [
    "-2*a(s)*p_2_y(a(s)-1)"
   ]
  },
  {
   "cell_type": "code",
   "execution_count": null,
   "metadata": {
    "collapsed": false
   },
   "outputs": [],
   "source": [
    "100*a(s)**2"
   ]
  },
  {
   "cell_type": "code",
   "execution_count": null,
   "metadata": {
    "collapsed": false,
    "scrolled": true
   },
   "outputs": [],
   "source": [
    "integrate(cp(s),s)"
   ]
  },
  {
   "cell_type": "code",
   "execution_count": null,
   "metadata": {
    "collapsed": false,
    "scrolled": true
   },
   "outputs": [],
   "source": [
    "def theta(s): return integrate(cp(s),s)\n",
    "integrate(taylor(cos(theta(s)),s,0,3),s)"
   ]
  },
  {
   "cell_type": "code",
   "execution_count": null,
   "metadata": {
    "collapsed": false,
    "scrolled": true
   },
   "outputs": [],
   "source": [
    "def yoft(t,tightness):\n",
    "    #P0y(1-t)^3+3P1y*t*(1-t)^2+3P2y*t^2*(1-t)+P3y*t^3\n",
    "    #P0y=0\n",
    "    #P3y=100\n",
    "    #P1y=tightness\n",
    "    #P2y=tightness+10\n",
    "    return 3*tightness*t*(1-t)*(1-t)+3*(tightness+10)*t*t*(1-t)+100*t*t*t\n",
    "#from sage.plot.scatter_plot import ScatterPlot\n",
    "scatter_plot([(-2+4*i/199,yoft(roo(10,7,-2+4*i/199).numerical_approx(),10)) for i in range(200)])"
   ]
  },
  {
   "cell_type": "code",
   "execution_count": null,
   "metadata": {
    "collapsed": false
   },
   "outputs": [],
   "source": [
    "reset('s')\n",
    "var('s')\n",
    "integrate(taylor(sin(s),s,0,13),s)"
   ]
  },
  {
   "cell_type": "code",
   "execution_count": null,
   "metadata": {
    "collapsed": false
   },
   "outputs": [],
   "source": [
    "factorial(5)"
   ]
  },
  {
   "cell_type": "code",
   "execution_count": null,
   "metadata": {
    "collapsed": false
   },
   "outputs": [],
   "source": [
    "reset('a')\n",
    "reset('s')\n",
    "var('a')\n",
    "var('s')\n",
    "diff(sqrt(a*s)/a,s)"
   ]
  },
  {
   "cell_type": "code",
   "execution_count": null,
   "metadata": {
    "collapsed": false
   },
   "outputs": [],
   "source": [
    "\n",
    "(p2 - p4 - sqrt(p2^2 - p3*p4 - (2*p2 - p3 - p4)*s))/(2*p2 - p3 - p4)"
   ]
  },
  {
   "cell_type": "code",
   "execution_count": null,
   "metadata": {
    "collapsed": false
   },
   "outputs": [],
   "source": [
    "diff((p2 - p4 - sqrt(p2^2 - p3*p4 - (2*p2 - p3 - p4)*s))/(2*p2 - p3 - p4),s)"
   ]
  },
  {
   "cell_type": "code",
   "execution_count": null,
   "metadata": {
    "collapsed": false
   },
   "outputs": [],
   "source": [
    "reset(['a','b','c','d'])\n",
    "var(['a','b','c','d'])\n",
    "(d-sqrt(b-a*s))/a,diff((d-sqrt(b-a*s))/a,s)"
   ]
  },
  {
   "cell_type": "code",
   "execution_count": null,
   "metadata": {
    "collapsed": false
   },
   "outputs": [],
   "source": [
    "reset('x')\n",
    "del(x)\n",
    "reset('y')\n",
    "var('a','b','c','d','e','f')\n",
    "var('y')\n",
    "def x(y):return d*y^2+e*y+f\n",
    "integrate(a*x(y)^2+b*x(y)+c,y)"
   ]
  },
  {
   "cell_type": "code",
   "execution_count": null,
   "metadata": {
    "collapsed": false
   },
   "outputs": [],
   "source": [
    "var('z')\n",
    "var('res')\n",
    "print(integrate((a*z^2+b*z+c)/(2*d*y+e),z))"
   ]
  },
  {
   "cell_type": "code",
   "execution_count": null,
   "metadata": {
    "collapsed": false
   },
   "outputs": [],
   "source": [
    "expand(1/6*(2*a*x(y)^3 + 3*b*x(y)^2 + 6*c*x(y))/(2*d*y + e))"
   ]
  },
  {
   "cell_type": "code",
   "execution_count": null,
   "metadata": {
    "collapsed": false
   },
   "outputs": [],
   "source": [
    "integrate(sqrt(a*s),s)"
   ]
  },
  {
   "cell_type": "markdown",
   "metadata": {},
   "source": [
    "#####    integrate(d*(c-sqrt(b-a*s))^2/a^2+e*(c-sqrt(b-a*s))/a +f,s)"
   ]
  },
  {
   "cell_type": "code",
   "execution_count": null,
   "metadata": {
    "collapsed": false
   },
   "outputs": [],
   "source": [
    "t=integrate(d*(c-sqrt(b-a*s))^2/a^2+e*(c-sqrt(b-a*s))/a +f,s)\n",
    "#p2.x=7.39\n",
    "#p4.x=3.695\n",
    "\n",
    "a=2*7.39-10-3.695\n",
    "b=7.39*7.39-10*3.695\n",
    "c=7.39-3.695\n",
    "d=(8-2*13+100)\n",
    "e=(2*13-200)\n",
    "f=100\n",
    "(f+c*e/a+(b+c*c)*d/(a*a))*s - d/(2*a)*s^2 + (2*e/(3*a*a)+4*c*d/(3*a*a*a))*(b-a*s)^(3/2)"
   ]
  },
  {
   "cell_type": "code",
   "execution_count": null,
   "metadata": {
    "collapsed": false,
    "scrolled": true
   },
   "outputs": [],
   "source": [
    "p=plot(s^3/10,(s,0,10))+plot(3*abs(s)/s*(abs(s)/3)^(1/2)+s^3*(1/10-sqrt(30)/1000),(s,0,10))\n",
    "show(p)"
   ]
  },
  {
   "cell_type": "code",
   "execution_count": null,
   "metadata": {
    "collapsed": false,
    "scrolled": true
   },
   "outputs": [],
   "source": [
    "integrate(abs(s)/s*exp(-abs(s))*3*abs(s/3)^(1/2)+abs(s)/s*(exp(abs(s)/10*log(101))-1),s)\n"
   ]
  },
  {
   "cell_type": "code",
   "execution_count": null,
   "metadata": {
    "collapsed": false
   },
   "outputs": [],
   "source": [
    "x1=np.array([i/10 for i in range(101)])\n",
    "x3=x1^3\n",
    "\n",
    "\n",
    "y1=np.array([goal(i/10) for i in range(101)])\n",
    "y1"
   ]
  },
  {
   "cell_type": "code",
   "execution_count": null,
   "metadata": {
    "collapsed": false
   },
   "outputs": [],
   "source": [
    "#integrate(maxima((exp(-(s))*3*(s/3)^(1/2)+(exp((s)/10*log(101))-1))).powerseries(s,0),s)\n",
    "def goal(s): return (exp(-(s))*3*(s/3)^(1/2)+(exp((s)/10*log(101))-1)).numerical_approx()\n",
    "import numpy as np\n",
    "x1=np.array([i/10 for i in range(101)])\n",
    "x3=x1^3\n",
    "x5=x1^5\n",
    "y1=np.array([goal(i/10) for i in range(101)])\n",
    "A1=np.array([j,1] for j in x1)\n",
    "A3=np.array([x3[j],x1[j],1] for j in range(len(x1)))\n",
    "A5=np.array([x5[j],x3[j],1] for j in range(len(x1)))\n",
    "B=y1\n",
    "X=np.linalg.lstsq(A5,B)[0]\n",
    "X"
   ]
  },
  {
   "cell_type": "code",
   "execution_count": null,
   "metadata": {
    "collapsed": false
   },
   "outputs": [],
   "source": [
    "a,b,c,d=(1.24614384e-06,   5.92347456e-04,   1.79146174e-02,\n",
    "         9.90989255e-01)\n",
    "a,b,c=(0.11100412, -3.51812875,  4.94601988)\n",
    "#d,e,f,g,h=(1.16155905e-04,  -4.32130692e-03,   1.18729524e-01,\n",
    "#          -9.43008493e-01,   2.05506753e+00)\n",
    "t=(exp(-(s))*3*(s/3)^(1/2)+(exp((s)/10*log(101))-1))\n",
    "plot(a*s^3 + b*s + c*s^(1/2),(s,0,3))+plot(t,(s,0,3),color='red')+plot(d*s^3+e*s+f*sqrt(s),(s,0,3),color='green')"
   ]
  },
  {
   "cell_type": "code",
   "execution_count": null,
   "metadata": {
    "collapsed": false
   },
   "outputs": [],
   "source": [
    "reset('a')\n",
    "reset('b')\n",
    "var('a','b')\n",
    "def goal(s,a): \n",
    "    if a!=0:\n",
    "        return (exp(-(s/sqrt(a)))*2*a*(s/(a))^(1/2)+(exp((s)/10*log(101))-1))\n",
    "    else:\n",
    "        return ((exp((s)/10*log(101))-1))\n",
    "\n",
    "def leastsq(order,a):\n",
    "    x=[]\n",
    "    x1=[i/100 for i in range(1001)]\n",
    "    for o in range(1,order+1):\n",
    "        x.append([j^(o/2) for j in x1])\n",
    "    #print(x)\n",
    "    A=np.array(zip(*x))\n",
    "    #print(A)\n",
    "    B=np.array([goal(j,a) for j in x1])\n",
    "    return np.linalg.lstsq(A,B)\n",
    "def eq(X,s):  return sum([i*s^((idx+1)/2) for idx,i in enumerate(X[0])])\n",
    "def mytaylor(var,order,a): return eq(leastsq(order,a),var)\n"
   ]
  },
  {
   "cell_type": "code",
   "execution_count": 4,
   "metadata": {
    "collapsed": false
   },
   "outputs": [
    {
     "data": {
      "image/png": "[encoded data removed]",
      "text/plain": [
       "Graphics object consisting of 2 graphics primitives"
      ]
     },
     "metadata": {},
     "output_type": "display_data"
    }
   ],
   "source": [
    "import numpy as np\n",
    "### reset('s')\n",
    "var('s')\n",
    "reset('c')\n",
    "var('c')\n",
    "def goal(s,a): \n",
    "    if a!=0:\n",
    "        if s<0:\n",
    "            #s=-s\n",
    "            return -(exp(-(-s/sqrt(2*a)))*2*a*(-s/(2*a))^(1/2)+(exp((-s)/10*log(101))-1))\n",
    "        else:\n",
    "            return (exp(-(s/sqrt(2*a)))*2*a*(s/(2*a))^(1/2)+(exp((s)/10*log(101))-1))\n",
    "    else:\n",
    "        if s<0:\n",
    "            s=-s\n",
    "            return -((exp((-s)/10*log(101))-1))\n",
    "        else:\n",
    "            return ((exp((s)/10*log(101))-1))\n",
    "def leastsq(powers,fun,domain=(-10,10),funargs=()):\n",
    "    #print(type(funargs))\n",
    "    x=[]\n",
    "    x1=[domain[0]+i/100 for i in range(100*(domain[1]-domain[0])+1)]\n",
    "    for p in powers:\n",
    "        x.append([j^p for j in x1])\n",
    "    #print(x)\n",
    "    A=np.array(zip(*x))\n",
    "    #print(A)\n",
    "    B=np.array([fun(j,*funargs) for j in x1])\n",
    "    return np.linalg.lstsq(A,B)\n",
    "def eq(X,s,powers):  \n",
    "    #print(\"eq:\",list(zip(powers,X[0])))\n",
    "    return sum([i*(s**p) for p,i in zip(powers,X[0])])\n",
    "def halftaylor(var,order,fun,domain=(-10,10),funargs=()): \n",
    "    powers=[i/2 for i in range(order)]\n",
    "    return eq(leastsq(powers,fun,domain,funargs=funargs),var,powers)\n",
    "def whtaylor(var,order,fun,domain=(-10,10),funargs=()): \n",
    "    return eq(leastsq(range(order),fun,domain=domain,funargs=funargs),var,range(order))\n",
    "def oddtaylor(var,order,fun,funargs=(),domain=(-10,10)): \n",
    "    #print('domain:',domain)\n",
    "    return eq(leastsq((2*i+1 for i in range(order)),fun,domain=domain,funargs=funargs),var,(2*i+1 for i in range(order)))\n",
    "#p=sum([plot(whtaylor(c,i,sin,domain=(-7,7)),(c,6,13),color='green',legend_label='whole') for i in [10]])\n",
    "#p+=plot(sin(c),(c,6,13),color='blue')\n",
    "#p+=plot(oddtaylor(c,10,sin,domain=(-14,14)),(c,0,7),color='black',legend_label='odd')\n",
    "#p+=sum([plot(halftaylor(c,i,sin,domain=(-7,7)),(c,-7,7),color='red',legend_label='half') for i in [8,9]])\n",
    "#p=sum(plot(taylor(cos(c),c,0,2*i+1),(c,-6,6),color=(i/5,0.5+0.5*(-1)^((i-1)/2),1-i/5),legend_label=i) for i in [1,3,5])\n",
    "#p+=plot(cos(c),(c,-6,6),color='red')\n",
    "#q=plot(taylor(goal(c,5,5),c,0,9),(c,0,10))+plot(mytaylor(c,9,5,5),(c,0,10),color='red')\n",
    "#p=sum(plot(whtaylor(c,5,goal,funargs=tuple([i])),(c,-3,3)) for i in range(1,5))\n",
    "#p=sum(plot(taylor(goal(c,i),c,0,9)) for i in range(1,5))\n",
    "\n",
    "def f(s): return exp(s)-exp(-s)\n",
    "p=plot(oddtaylor(c,5,f,domain=(-5,5)),(c,-5,5))+plot(exp(c)-exp(-c),(c,-5,5),color='red')\n",
    "show(p)\n",
    "#halftaylor(s,9,goal,funargs=tuple([3]))\n"
   ]
  },
  {
   "cell_type": "code",
   "execution_count": 3,
   "metadata": {
    "collapsed": false
   },
   "outputs": [
    {
     "data": {
      "text/plain": [
       "(3.57868627200000, 1.43367840000000, 2.14500000000000, 1.96896000000000)"
      ]
     },
     "execution_count": 3,
     "metadata": {},
     "output_type": "execute_result"
    }
   ],
   "source": [
    "2*factorial(9),0.00028446*factorial(7),0.017875*factorial(5),0.32816*factorial(3)"
   ]
  },
  {
   "cell_type": "code",
   "execution_count": 37,
   "metadata": {
    "collapsed": false
   },
   "outputs": [
    {
     "data": {
      "text/plain": [
       "array([[-5],\n",
       "       [-4],\n",
       "       [-3],\n",
       "       [-2],\n",
       "       [-1],\n",
       "       [ 0],\n",
       "       [ 1],\n",
       "       [ 2],\n",
       "       [ 3],\n",
       "       [ 4],\n",
       "       [ 5]])"
      ]
     },
     "execution_count": 37,
     "metadata": {},
     "output_type": "execute_result"
    }
   ],
   "source": [
    "domain=((-5,6,1),(0.1,1.1,0.1))\n",
    "#X=np.array([(i,j) for i in np.arange(*domain[0])])\n",
    "X=np.arange(*domain[0])\n",
    "np.column_stack([X])"
   ]
  },
  {
   "cell_type": "code",
   "execution_count": 76,
   "metadata": {
    "collapsed": false
   },
   "outputs": [
    {
     "data": {
      "image/png": "[encoded data removed]",
      "text/plain": [
       "Graphics object consisting of 5 graphics primitives"
      ]
     },
     "execution_count": 76,
     "metadata": {},
     "output_type": "execute_result"
    }
   ],
   "source": [
    "def f(x,a): return exp(a*x)-exp(-a*x)\n",
    "def leastsq(powers,fun,domain=(-10,10),funargs=()):\n",
    "    #print(type(funargs))\n",
    "    x=[]\n",
    "    x1=[domain[0]+i/100 for i in range(100*(domain[1]-domain[0])+1)]\n",
    "    for p in powers:\n",
    "        x.append([j^p for j in x1])\n",
    "    #print(x)\n",
    "    A=np.array(zip(*x))\n",
    "    print(A)\n",
    "    B=np.array([fun(j,*funargs) for j in x1])\n",
    "    return np.linalg.lstsq(A,B)\n",
    "def leastsq2(powers,fun,domain=((-5,6,1),(0.1,1.1,0.1)),funargs=()):\n",
    "    #print(type(funargs))\n",
    "    x=[]\n",
    "    #x1=[[domain[0][0]+i/100,domain[1][0]+j/100] for i in range(100*(domain[0][1]-domain[0][0])+1) for j in range(100*(domain[1][1]-domain[1][0])+1)]\n",
    "    x1=np.arange(*domain[0])\n",
    "    #for p in powers:\n",
    "    #    x.append([x^p for x in x1])\n",
    "    #print(x)\n",
    "    A=np.column_stack([[x^p/factorial(p) for x in x1] for p in powers])\n",
    "    B=np.column_stack([[fun(x,a) for x in x1] for a in np.arange(*domain[1])])\n",
    "    return np.linalg.lstsq(A,B)\n",
    "#leastsq([1,3,5],f,funargs=tuple([0.1]))\n",
    "X=leastsq2([1,3,5,7,9],f,domain=((-5,5.1,0.1),(0.01,1.01,0.01)))\n",
    "colors=['red','green','blue','cyan','purple']\n",
    "sum(list_plot(zip(np.arange(0.01,1.01,0.01),X[0][i]),color=colors[i]) for i in range(5))"
   ]
  },
  {
   "cell_type": "code",
   "execution_count": 86,
   "metadata": {
    "collapsed": false
   },
   "outputs": [
    {
     "name": "stdout",
     "output_type": "stream",
     "text": [
      "2.00118518209x^1.00030708023\n",
      "1.99289860526x^2.99817519508\n",
      "2.039900223x^5.00995243279\n",
      "1.78529749748x^6.94393626641\n",
      "nanx^nan\n"
     ]
    },
    {
     "name": "stderr",
     "output_type": "stream",
     "text": [
      "/usr/lib/python2.7/site-packages/sage/functions/log.py:313: RuntimeWarning: invalid value encountered in log\n",
      "  return GinacFunction.__call__(self, *args, **kwds)\n"
     ]
    }
   ],
   "source": [
    "#datapoints=x,a*x^b\n",
    "#log(data)=log(a*x^b)=log(a)+b*log(x)\n",
    "for data in X[0]:\n",
    "    A=np.column_stack([[log(x) for x in np.arange(0.01,1.01,0.01)],[1 for x in np.arange(0.01,1.01,0.01)]])\n",
    "    B=log(data)\n",
    "    Y=np.linalg.lstsq(A,B)\n",
    "    b=Y[0][0]\n",
    "    a=exp(Y[0][1])\n",
    "    print(str(a)+'x^'+str(b))\n",
    "#var('t')\n",
    "#list_plot(zip(np.arange(0.01,1.01,0.01),X[0][1]))+plot(a*t^b,(t,0,1))"
   ]
  },
  {
   "cell_type": "code",
   "execution_count": 93,
   "metadata": {
    "collapsed": false
   },
   "outputs": [
    {
     "data": {
      "image/png": "[encoded data removed]",
      "text/plain": [
       "Graphics object consisting of 5 graphics primitives"
      ]
     },
     "execution_count": 93,
     "metadata": {},
     "output_type": "execute_result"
    }
   ],
   "source": [
    "del x\n",
    "reset('x')\n",
    "var('x')\n",
    "sum(plot(sum(2*a^i*x^i/factorial(i) for i in [1,3,5,7,9,11]),(x,0,5),color='red')+plot(exp(a*x)-exp(-a*x),(x,0,5)) for a in [0.25,0.5])"
   ]
  },
  {
   "cell_type": "code",
   "execution_count": null,
   "metadata": {
    "collapsed": true
   },
   "outputs": [],
   "source": []
  },
  {
   "cell_type": "code",
   "execution_count": null,
   "metadata": {
    "collapsed": false
   },
   "outputs": [],
   "source": [
    "from betterpath import *\n",
    "from vec2d import Vec2D\n",
    "l=[]\n",
    "for i in range(6):\n",
    "    l.append(xy(0,-1,1,i/5,3).x,xy(0,-1,1,i/))"
   ]
  },
  {
   "cell_type": "code",
   "execution_count": null,
   "metadata": {
    "collapsed": false,
    "scrolled": true
   },
   "outputs": [],
   "source": [
    "oddtaylor(c,10,sin,domain=(-7,7))"
   ]
  },
  {
   "cell_type": "code",
   "execution_count": null,
   "metadata": {
    "collapsed": false,
    "scrolled": true
   },
   "outputs": [],
   "source": [
    "for i in range(11):\n",
    "    print(leastsq(9,i)[0])\n"
   ]
  },
  {
   "cell_type": "code",
   "execution_count": null,
   "metadata": {
    "collapsed": false,
    "scrolled": true
   },
   "outputs": [],
   "source": [
    "var('cprime')\n",
    "reset('c0')\n",
    "reset('c')\n",
    "reset('t0')\n",
    "var('t0')\n",
    "var('c','c0')\n",
    "cprime=Piecewise([[(0,infinity),eq(leastsq(9),s)],[(-infinity,0),-eq(leastsq(9),-s)]])\n",
    "\n",
    "def int_cp(c): return Piecewise([[(0,infinity),integrate(eq(leastsq(9),c),c)],[(-infinity,0),integrate(-eq(leastsq(9),-c),c)]])\n",
    "def theta(t0,c0,c): return t0+int_cp(c)-int_cp(c0)\n",
    "theta(0,c0,c)\n"
   ]
  },
  {
   "cell_type": "code",
   "execution_count": null,
   "metadata": {
    "collapsed": false
   },
   "outputs": [],
   "source": [
    "p=None\n",
    "for c in range(1000,2000,200):\n",
    "    c=1/c\n",
    "    for a in range(2):\n",
    "        a=a+1\n",
    "        b=(10-a)/100-100*c\n",
    "        if p is None:\n",
    "            p=plot(s^3/10+s,(s,0,10),color='red')\n",
    "        else:\n",
    "            p+=plot(a*s+b*s**3+c*s**5,(s,0,5))\n",
    "show(p,ymin=0,ymax=10)"
   ]
  },
  {
   "cell_type": "code",
   "execution_count": null,
   "metadata": {
    "collapsed": false,
    "scrolled": true
   },
   "outputs": [],
   "source": [
    "integral(b^2,s)"
   ]
  },
  {
   "cell_type": "code",
   "execution_count": null,
   "metadata": {
    "collapsed": false
   },
   "outputs": [],
   "source": [
    "#integral(b*(c)^2,s)=\n",
    "c=c0+(c1-c0)*s\n",
    "expand(s*b*c^2-integral(s*b*2*(c)*(c1-c0),s))"
   ]
  },
  {
   "cell_type": "code",
   "execution_count": null,
   "metadata": {
    "collapsed": false
   },
   "outputs": [],
   "source": [
    "expand(integral(b*c^2,s))"
   ]
  },
  {
   "cell_type": "code",
   "execution_count": null,
   "metadata": {
    "collapsed": true
   },
   "outputs": [],
   "source": [
    "var('g','h','i','j','k','l','m')\n",
    "g=f^2\n",
    "h=(2*e*f-a^3*c^2)\n",
    "i=(3*a^2*b*c^2+e^2)\n",
    "j=(-3a*b^2*c^2)\n",
    "k=b^3*c^2\n",
    "#s*(b-as)^3/2\n",
    "l=2*c*e\n",
    "#s^2(b-as)^3/2\n",
    "m=2*c*f"
   ]
  },
  {
   "cell_type": "code",
   "execution_count": null,
   "metadata": {
    "collapsed": false
   },
   "outputs": [],
   "source": [
    "taylor((b-a*s)^(3/2),0,5)"
   ]
  },
  {
   "cell_type": "code",
   "execution_count": null,
   "metadata": {
    "collapsed": true
   },
   "outputs": [],
   "source": []
  }
 ],
 "metadata": {
  "kernelspec": {
   "display_name": "SageMath",
   "language": "",
   "name": "sagemath"
  },
  "language_info": {
   "codemirror_mode": {
    "name": "ipython",
    "version": 2
   },
   "file_extension": ".py",
   "mimetype": "text/x-python",
   "name": "python",
   "nbconvert_exporter": "python",
   "pygments_lexer": "ipython2",
   "version": "2.7.10"
  }
 },
 "nbformat": 4,
 "nbformat_minor": 0
}
