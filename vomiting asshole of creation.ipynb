{
 "cells": [
  {
   "cell_type": "code",
   "execution_count": 85,
   "metadata": {
    "collapsed": false
   },
   "outputs": [
    {
     "data": {
      "image/svg+xml": [
       "<svg baseProfile=\"full\" height=\"100%\" version=\"1.1\" width=\"100%\" xmlns=\"http://www.w3.org/2000/svg\" xmlns:ev=\"http://www.w3.org/2001/xml-events\" xmlns:xlink=\"http://www.w3.org/1999/xlink\"><defs/><g transform=\"translate(200,100)\"><path d=\"M 0.0 0.0 C 99.62648855867273 1.2200726032366896e-14 165.72582365847924 -18.358127210237758 315.0608104443759 -4.249203734079823\" fill=\"none\" stroke=\"blue\" stroke-width=\"2\"/><path d=\"M 0.0 0.0 C 93.66136038859628 14.834502145182526 163.29175273168755 -2.5817350191629496 314.3288025272008 -10.241705044334118\" fill=\"none\" stroke=\"blue\" stroke-width=\"2\"/><path d=\"M 0.0 0.0 C 85.38460064974078 27.7431385060818 166.7800492526691 -11.348344823561341 321.6486701864257 -8.525330974239735\" fill=\"none\" stroke=\"blue\" stroke-width=\"2\"/><path d=\"M 0.0 0.0 C 66.71700801485065 33.9940134976902 154.73211604727854 -11.70163037848835 315.4975306250398 -5.137978370305561\" fill=\"none\" stroke=\"blue\" stroke-width=\"2\"/><path d=\"M 0.0 0.0 C 52.687429688065336 38.27965835967171 155.706142944759 3.384142429375576 324.77217402860595 6.687532609640591\" fill=\"none\" stroke=\"blue\" stroke-width=\"2\"/><path d=\"M 0.0 0.0 C 28.342041590910632 28.342041590910636 145.36610027428046 13.470830927086986 324.5552516006419 7.478420092458819\" fill=\"none\" stroke=\"blue\" stroke-width=\"2\"/><path d=\"M 0.0 0.0 C 10.065500673498995 13.853973147494441 138.6492774199311 -9.247579081394697 329.80836037982715 -4.363173750835224\" fill=\"none\" stroke=\"blue\" stroke-width=\"2\"/><path d=\"M 0.0 0.0 C -4.095134538868064 -8.037154067439454 108.34882405573327 0.5107700462467442 312.7423816311077 9.72067630214254\" fill=\"none\" stroke=\"blue\" stroke-width=\"2\"/><path d=\"M 0.0 0.0 C -11.663590453639667 -35.89684032352126 103.67171499072123 -21.098785258988546 322.3495416025923 -7.5314178766865325\" fill=\"none\" stroke=\"blue\" stroke-width=\"2\"/><path d=\"M 0.0 0.0 C -11.134692437463501 -70.30168124247596 83.29835510822707 24.38499803604647 316.77293455743217 4.07207314745629\" fill=\"none\" stroke=\"blue\" stroke-width=\"2\"/><path d=\"M 0.0 0.0 C 6.0956831466090766e-15 -99.55006048851193 70.20053601051978 29.23701241732253 319.4135259084377 9.415668715638844\" fill=\"none\" stroke=\"blue\" stroke-width=\"2\"/><path d=\"M 0.0 0.0 C 20.16907757347203 -127.34254407910724 49.99971004832213 10.989942433747201 315.6271816701259 8.076698478350671\" fill=\"none\" stroke=\"blue\" stroke-width=\"2\"/><path d=\"M 0.0 0.0 C 49.564497197801764 -152.54383705404345 38.12970114243416 19.470434860348366 318.26271675586344 -1.2963248820582385\" fill=\"none\" stroke=\"blue\" stroke-width=\"2\"/><path d=\"M 0.0 0.0 C 85.60035103092987 -168.00014820823162 20.595765306165276 1.8767161263800227 315.9899243717668 3.5765736030836095\" fill=\"none\" stroke=\"blue\" stroke-width=\"2\"/><path d=\"M 0.0 0.0 C 128.1008847907181 -176.31574182230514 12.932946170343541 -21.620761316432656 321.4781571128846 -9.619492751329611\" fill=\"none\" stroke=\"blue\" stroke-width=\"2\"/><path d=\"M 0.0 0.0 C 173.43163505563803 -173.43163505563803 -2.5369465307541645 -6.330062040780941 318.02248887753706 3.5181575975576114\" fill=\"none\" stroke=\"blue\" stroke-width=\"2\"/><path d=\"M 0.0 0.0 C 209.14363980938006 -151.95174878334961 -15.316347284744552 12.712796729910607 315.57261802604967 15.615782464313186\" fill=\"none\" stroke=\"blue\" stroke-width=\"2\"/><path d=\"M 0.0 0.0 C 249.55216393368553 -127.1531785006185 -19.768139906822114 13.97141759026157 319.18784006603056 4.067069478253829\" fill=\"none\" stroke=\"blue\" stroke-width=\"2\"/><path d=\"M 0.0 0.0 C 274.84236224158894 -89.30169685147148 -28.373147549358634 -63.665264507947654 315.3441057768962 -32.740184839698024\" fill=\"none\" stroke=\"blue\" stroke-width=\"2\"/><path d=\"M 0.0 0.0 C 295.47638608521555 -46.798862039223465 -25.342182775103026 1.044767733553467 323.41841354071977 -1.3523281477916567\" fill=\"none\" stroke=\"blue\" stroke-width=\"2\"/><path d=\"M 0.0 0.0 C 299.4635621037686 0.0 -17.946581419516747 -16.609453498883163 331.676967541609 -0.38065157676602945\" fill=\"none\" stroke=\"blue\" stroke-width=\"2\"/><path d=\"M 0.0 0.0 C 291.24266398450357 46.12830633381258 -31.58369402454167 -16.976013482360397 316.7453205569307 0.533904048372734\" fill=\"none\" stroke=\"blue\" stroke-width=\"2\"/><path d=\"M 0.0 0.0 C 275.709401808307 89.58341508411156 -24.249027389557227 -6.826270152356724 320.5661849000867 7.329299786017998\" fill=\"none\" stroke=\"blue\" stroke-width=\"2\"/><path d=\"M 0.0 0.0 C 246.44057135563892 125.56774289364562 -31.68837552464703 27.342153589427923 307.3558465878779 21.156046332547596\" fill=\"none\" stroke=\"blue\" stroke-width=\"2\"/><path d=\"M 0.0 0.0 C 213.9381702888863 155.43517907852885 -4.0453774499284805 11.352965990874635 326.5267790942425 -3.4113155141028013\" fill=\"none\" stroke=\"blue\" stroke-width=\"2\"/><path d=\"M 0.0 0.0 C 171.46324392495345 171.46324392495342 0.29002890304627726 20.452878476191056 320.8249158027356 9.835659465040012\" fill=\"none\" stroke=\"blue\" stroke-width=\"2\"/><path d=\"M 0.0 0.0 C 127.48338741741205 175.46582960174825 14.807738546039843 -6.409910957829216 323.51744376019985 0.10895008803836037\" fill=\"none\" stroke=\"blue\" stroke-width=\"2\"/><path d=\"M 0.0 0.0 C 86.72110264446329 170.19974709901413 24.116935276968093 -24.75215738446151 318.50024935243033 -0.27639142172342157\" fill=\"none\" stroke=\"blue\" stroke-width=\"2\"/><path d=\"M 0.0 0.0 C 50.265381214109674 154.70093625250357 36.62138867086878 -1.1449364008799574 317.52279476432426 -0.7389787771604907\" fill=\"none\" stroke=\"blue\" stroke-width=\"2\"/><path d=\"M 0.0 0.0 C 20.385159827148108 128.70683373554917 55.20861748997163 7.143831823243519 320.85114343134694 7.843175816944807\" fill=\"none\" stroke=\"blue\" stroke-width=\"2\"/><path d=\"M 0.0 0.0 C 6.240188743655975e-15 101.91001598176122 69.20577976856393 -8.268438122268066 318.30039937586616 12.988807294139981\" fill=\"none\" stroke=\"blue\" stroke-width=\"2\"/><path d=\"M 0.0 0.0 C -11.284478783373022 71.24739501083984 85.85409504093786 -7.059599706398233 320.1801007741783 -3.27579162219721\" fill=\"none\" stroke=\"blue\" stroke-width=\"2\"/><path d=\"M 0.0 0.0 C -11.901516179600259 36.62910041338065 104.48099113140347 -28.60614014524645 321.35875143513124 2.5082037336898826\" fill=\"none\" stroke=\"blue\" stroke-width=\"2\"/><path d=\"M 0.0 0.0 C -4.336949734542726 8.51174311086133 116.85028443830399 17.28009490166531 321.37348362553973 11.64008197804695\" fill=\"none\" stroke=\"blue\" stroke-width=\"2\"/><path d=\"M 0.0 0.0 C 9.845867998811771 -13.551674704910218 128.6685964681562 19.887391859940067 319.1170599944946 2.7108044818087436\" fill=\"none\" stroke=\"blue\" stroke-width=\"2\"/><path d=\"M 0.0 0.0 C 27.646735259096474 -27.646735259096477 143.81231743247346 8.437474779905854 322.9076406981682 0.0992420517484898\" fill=\"none\" stroke=\"blue\" stroke-width=\"2\"/><path d=\"M 0.0 0.0 C 50.60026127574289 -36.76324174501001 153.85652080945286 -4.707412210350277 321.9180679741802 13.98888736270689\" fill=\"none\" stroke=\"blue\" stroke-width=\"2\"/><path d=\"M 0.0 0.0 C 72.17230510126298 -36.773626197770085 159.72434032351305 13.992110726462139 320.4594005892744 6.72296680120936\" fill=\"none\" stroke=\"blue\" stroke-width=\"2\"/><path d=\"M 0.0 0.0 C 81.72727331882356 -26.55480082069587 166.94116314514758 10.025838035655722 321.7900413504712 13.778713689059806\" fill=\"none\" stroke=\"blue\" stroke-width=\"2\"/><path d=\"M 0.0 0.0 C 99.60998853498472 -15.776672284847045 167.59549804808321 -17.174198439495623 318.7564734206385 -12.567130376549244\" fill=\"none\" stroke=\"blue\" stroke-width=\"2\"/></g></svg>"
      ],
      "text/plain": [
       "<IPython.core.display.SVG object>"
      ]
     },
     "execution_count": 85,
     "metadata": {},
     "output_type": "execute_result"
    }
   ],
   "source": [
    "import svgwrite\n",
    "from vec2d import Vec2D\n",
    "import math\n",
    "from random import gauss\n",
    "radius=50\n",
    "n_threads=40#largenumber\n",
    "dwg=svgwrite.Drawing()\n",
    "g=dwg.g()\n",
    "g.translate((200,100))\n",
    "for n in range(n_threads):\n",
    "    st=Vec2D(0,0)\n",
    "    theta=-math.pi+n/n_threads*2*math.pi\n",
    "    r=gauss(100,2)+math.cos(theta)*200\n",
    "    \n",
    "    p1=Vec2D(r=r,t=theta)\n",
    "    #when theta=down=-pi/2, r2~=2000, but as theta approaches goaltheta,(0)\n",
    "    r2=250 + 100*math.cos(theta)\n",
    "    \n",
    "    p3=Vec2D(r=320,t=0)+Vec2D(gauss(0,5),gauss(0,10))\n",
    "    theta2=gauss(-math.pi,3/180*math.pi)\n",
    "    p2=p3+Vec2D(r=r2,t=theta2)\n",
    "    #p=dwg.path(stroke_width=2,stroke='red',fill='none',debug=False)\n",
    "    #p.push([])\n",
    "    g.add(dwg.path(d=['M',st.car,'C',p1.car,p2.car,p3.car],stroke_width=2,stroke='blue',fill='none',debug=False))\n",
    "\n",
    "dwg.add(g)\n",
    "from IPython.display import SVG\n",
    "SVG(dwg.tostring())"
   ]
  },
  {
   "cell_type": "code",
   "execution_count": 58,
   "metadata": {
    "collapsed": false
   },
   "outputs": [],
   "source": [
    "with open('godsanus1.svg','w') as f:\n",
    "    f.write(dwg.tostring())"
   ]
  },
  {
   "cell_type": "code",
   "execution_count": 7,
   "metadata": {
    "collapsed": false
   },
   "outputs": [
    {
     "name": "stdout",
     "output_type": "stream",
     "text": [
      "(-0.4363323129985824, 4.890011635734116)\n",
      "(0.3490658503988659, 1.0742274288268698)\n",
      "(1.1344640137963142, 3.5416285290992096)\n",
      "(1.9198621771937625, 6.009029629371549)\n",
      "(2.705260340591211, 2.193245422464302)\n",
      "(3.490658503988659, 4.660646522736641)\n",
      "(4.276056667386107, 0.8448623158293933)\n",
      "(5.061454830783555, 3.312263416101733)\n"
     ]
    }
   ],
   "source": [
    "import math\n",
    "for t in range(0,8):\n",
    "    th=t*math.pi/4-25*math.pi/180\n",
    "    print((th,(th-115*math.pi/180)%2*math.pi))"
   ]
  },
  {
   "cell_type": "code",
   "execution_count": 81,
   "metadata": {
    "collapsed": false
   },
   "outputs": [
    {
     "data": {
      "text/plain": [
       "1.0"
      ]
     },
     "execution_count": 81,
     "metadata": {},
     "output_type": "execute_result"
    }
   ],
   "source": [
    "-math.cos(math.pi)"
   ]
  },
  {
   "cell_type": "code",
   "execution_count": null,
   "metadata": {
    "collapsed": true
   },
   "outputs": [],
   "source": []
  }
 ],
 "metadata": {
  "kernelspec": {
   "display_name": "Python 3",
   "language": "python",
   "name": "python3"
  },
  "language_info": {
   "codemirror_mode": {
    "name": "ipython",
    "version": 3
   },
   "file_extension": ".py",
   "mimetype": "text/x-python",
   "name": "python",
   "nbconvert_exporter": "python",
   "pygments_lexer": "ipython3",
   "version": "3.5.0"
  }
 },
 "nbformat": 4,
 "nbformat_minor": 0
}
