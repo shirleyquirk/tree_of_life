{
 "cells": [
  {
   "cell_type": "code",
   "execution_count": 1,
   "metadata": {
    "collapsed": true
   },
   "outputs": [],
   "source": [
    "from Bio import Phylo\n",
    "from io import StringIO\n",
    "fungi='Nucletmycea (Nuclearia, Fonticula, Rozella, Fungi (Microsporidia, Meocallimastigaceae, Chytridiomycota (Chytridiomycetes (Chytridiales, Cladochytriales, Rhizophydiales, Polychytriales, Spizellomycetales, Rhizophlyctidales, Lobulomycetaceae), Monoblepharidales), Blastocladiales, Mucoromycotina (Mucorales, Endogone), Mortierellaceae, Entomophthorales, Zoopagales, Kickxellomycotina (Asellariales, Dimargaritaceae, Harpellales, Kickxellaceae, Glomeromycota (Archaeosporales, Glomeromycetes (Glomerales, Diversisporales), Paraglomus)), Dikarya (Asomycota (Taphrinomycotina (Archaeorhizomyces, Neolecta, Pneumocystis, Schizosaccharomyces, Taphrina), Saccharomycetales, Pezizomycotina (Arthoniales, Dothideomycetes (Dothideomycetidae, Pleosporomycetidae), Eurotiomycetes (Chaetothyriomycetidae, Eurotiomycetidae, Mycocaliciales), Geoglossaceae, Laboulbeniomycetes, Lecanoromycetes (Acarosporaceae, Lecanoromycetidae, Ostropomycetidae), Leotiomycetes, Lichinomycetes, Orbiliaceae, Pezizales, Sordariomycetes (Hypocreomycetidae, Sordariomycetidae, Xylariales))), Basidiomycota (Pucciniomycotina (Agariocostilbomycetes, Atractiellales, Classiculales, Cryptomycocolax, Cystobasidiomycetes, Microbotryomycetes, Mixia, Pucciniomycetes), Ustilaginomycotina (Exobasidiomycetes, Ustilaginomycetes), Agaricomycotina (Agaricomycetes (Agaricomycetidae, Phallomycetidae, Dacrymycetales, Tremellomycetes)), Entorrhizales, Wallemia)))) '"
   ]
  },
  {
   "cell_type": "code",
   "execution_count": 2,
   "metadata": {
    "collapsed": true
   },
   "outputs": [],
   "source": [
    "Fungi=Phylo.parse(StringIO(fungi),'newick').__next__()"
   ]
  },
  {
   "cell_type": "code",
   "execution_count": 3,
   "metadata": {
    "collapsed": true
   },
   "outputs": [],
   "source": [
    "Phylo.draw(Fungi)"
   ]
  },
  {
   "cell_type": "code",
   "execution_count": 5,
   "metadata": {
    "collapsed": false
   },
   "outputs": [
    {
     "ename": "NewickError",
     "evalue": "Number of open/close parentheses do not match.",
     "output_type": "error",
     "traceback": [
      "\u001b[1;31m---------------------------------------------------------------------------\u001b[0m",
      "\u001b[1;31mNewickError\u001b[0m                               Traceback (most recent call last)",
      "\u001b[1;32m<ipython-input-5-9d1b54925bd3>\u001b[0m in \u001b[0;36m<module>\u001b[1;34m()\u001b[0m\n\u001b[0;32m      1\u001b[0m \u001b[0mAplastida\u001b[0m\u001b[1;33m=\u001b[0m\u001b[1;34m'Archaeplastida (Rhodophyta (Cyanidiophyceae, Porphyridiophyceae, Compsopogonophyceae, Stylonometophyceae, Rhodellophyceae, Bangiophyceae, Florideophyceae (Hildebrandiales, Acrochaetiales, Nemaliales, Batrochospermales, Corallinales, Gelidiales, Gracilariales, Ceramiales)), Glaucocystophyceae (Glaucocystis, Cyanophora, Gloeochaete), Viridiplantae (Chlorophyta (Prasinophyceae,UTC Clade (Ulvophyceae, Trebouxiophyceae, Chlorophyceae)), Streptophyta (Charophyta (Charales, Chlorokybales, Coleochaetales, Klebsormidiales, Zygnematales), Embryophytae (Bryophytes (Marchantiophyta, Anthocerotophyta, Brophyta, Horneophytopsida), Tracheophyta (Lycopodiophyta (Isoetopsida (Isoetales, Selaginellales), Lycopodiopsida (Lycopodiales)), Euphyllophyta (Moniliformopses (Equisetopsida, Filicopsida, Psilotopsida), Spermatophyta, (Gymnosperm (Pinophyta, Cycadophyta, Ginkgophyta, Gnetophyta, Pinophyta), Angiosperms))))))'\u001b[0m\u001b[1;33m\u001b[0m\u001b[0m\n\u001b[1;32m----> 2\u001b[1;33m \u001b[0mArchaePlastida\u001b[0m\u001b[1;33m=\u001b[0m\u001b[0mPhylo\u001b[0m\u001b[1;33m.\u001b[0m\u001b[0mparse\u001b[0m\u001b[1;33m(\u001b[0m\u001b[0mStringIO\u001b[0m\u001b[1;33m(\u001b[0m\u001b[0mAplastida\u001b[0m\u001b[1;33m)\u001b[0m\u001b[1;33m,\u001b[0m\u001b[1;34m'newick'\u001b[0m\u001b[1;33m)\u001b[0m\u001b[1;33m.\u001b[0m\u001b[0m__next__\u001b[0m\u001b[1;33m(\u001b[0m\u001b[1;33m)\u001b[0m\u001b[1;33m\u001b[0m\u001b[0m\n\u001b[0m",
      "\u001b[1;32m/usr/lib/python3.5/site-packages/Bio/Phylo/_io.py\u001b[0m in \u001b[0;36mparse\u001b[1;34m(file, format, **kwargs)\u001b[0m\n\u001b[0;32m     51\u001b[0m     \"\"\"\n\u001b[0;32m     52\u001b[0m     \u001b[1;32mwith\u001b[0m \u001b[0mFile\u001b[0m\u001b[1;33m.\u001b[0m\u001b[0mas_handle\u001b[0m\u001b[1;33m(\u001b[0m\u001b[0mfile\u001b[0m\u001b[1;33m,\u001b[0m \u001b[1;34m'r'\u001b[0m\u001b[1;33m)\u001b[0m \u001b[1;32mas\u001b[0m \u001b[0mfp\u001b[0m\u001b[1;33m:\u001b[0m\u001b[1;33m\u001b[0m\u001b[0m\n\u001b[1;32m---> 53\u001b[1;33m         \u001b[1;32mfor\u001b[0m \u001b[0mtree\u001b[0m \u001b[1;32min\u001b[0m \u001b[0mgetattr\u001b[0m\u001b[1;33m(\u001b[0m\u001b[0msupported_formats\u001b[0m\u001b[1;33m[\u001b[0m\u001b[0mformat\u001b[0m\u001b[1;33m]\u001b[0m\u001b[1;33m,\u001b[0m \u001b[1;34m'parse'\u001b[0m\u001b[1;33m)\u001b[0m\u001b[1;33m(\u001b[0m\u001b[0mfp\u001b[0m\u001b[1;33m,\u001b[0m \u001b[1;33m**\u001b[0m\u001b[0mkwargs\u001b[0m\u001b[1;33m)\u001b[0m\u001b[1;33m:\u001b[0m\u001b[1;33m\u001b[0m\u001b[0m\n\u001b[0m\u001b[0;32m     54\u001b[0m             \u001b[1;32myield\u001b[0m \u001b[0mtree\u001b[0m\u001b[1;33m\u001b[0m\u001b[0m\n\u001b[0;32m     55\u001b[0m \u001b[1;33m\u001b[0m\u001b[0m\n",
      "\u001b[1;32m/usr/lib/python3.5/site-packages/Bio/Phylo/NewickIO.py\u001b[0m in \u001b[0;36mparse\u001b[1;34m(self, values_are_confidence, comments_are_confidence, rooted)\u001b[0m\n\u001b[0;32m    122\u001b[0m         \u001b[1;32mif\u001b[0m \u001b[0mbuf\u001b[0m\u001b[1;33m:\u001b[0m\u001b[1;33m\u001b[0m\u001b[0m\n\u001b[0;32m    123\u001b[0m             \u001b[1;31m# Last tree is missing a terminal ';' character -- that's OK\u001b[0m\u001b[1;33m\u001b[0m\u001b[1;33m\u001b[0m\u001b[0m\n\u001b[1;32m--> 124\u001b[1;33m             \u001b[1;32myield\u001b[0m \u001b[0mself\u001b[0m\u001b[1;33m.\u001b[0m\u001b[0m_parse_tree\u001b[0m\u001b[1;33m(\u001b[0m\u001b[0mbuf\u001b[0m\u001b[1;33m)\u001b[0m\u001b[1;33m\u001b[0m\u001b[0m\n\u001b[0m\u001b[0;32m    125\u001b[0m \u001b[1;33m\u001b[0m\u001b[0m\n\u001b[0;32m    126\u001b[0m     \u001b[1;32mdef\u001b[0m \u001b[0m_parse_tree\u001b[0m\u001b[1;33m(\u001b[0m\u001b[0mself\u001b[0m\u001b[1;33m,\u001b[0m \u001b[0mtext\u001b[0m\u001b[1;33m)\u001b[0m\u001b[1;33m:\u001b[0m\u001b[1;33m\u001b[0m\u001b[0m\n",
      "\u001b[1;32m/usr/lib/python3.5/site-packages/Bio/Phylo/NewickIO.py\u001b[0m in \u001b[0;36m_parse_tree\u001b[1;34m(self, text)\u001b[0m\n\u001b[0;32m    195\u001b[0m \u001b[1;33m\u001b[0m\u001b[0m\n\u001b[0;32m    196\u001b[0m         \u001b[1;32mif\u001b[0m \u001b[1;32mnot\u001b[0m \u001b[0mlp_count\u001b[0m \u001b[1;33m==\u001b[0m \u001b[0mrp_count\u001b[0m\u001b[1;33m:\u001b[0m\u001b[1;33m\u001b[0m\u001b[0m\n\u001b[1;32m--> 197\u001b[1;33m             \u001b[1;32mraise\u001b[0m \u001b[0mNewickError\u001b[0m\u001b[1;33m(\u001b[0m\u001b[1;34m'Number of open/close parentheses do not match.'\u001b[0m\u001b[1;33m)\u001b[0m\u001b[1;33m\u001b[0m\u001b[0m\n\u001b[0m\u001b[0;32m    198\u001b[0m \u001b[1;33m\u001b[0m\u001b[0m\n\u001b[0;32m    199\u001b[0m         \u001b[1;31m# if ; token broke out of for loop, there should be no remaining tokens\u001b[0m\u001b[1;33m\u001b[0m\u001b[1;33m\u001b[0m\u001b[0m\n",
      "\u001b[1;31mNewickError\u001b[0m: Number of open/close parentheses do not match."
     ]
    }
   ],
   "source": [
    "Aplastida=''''''Archaeplastida (Rhodophyta (Cyanidiophyceae, Porphyridiophyceae, \n",
    "Compsopogonophyceae, Stylonometophyceae, Rhodellophyceae, Bangiophyceae, Florideophyceae (Hildebrandiales, Acrochaetiales, Nemaliales, Batrochospermales, Corallinales, Gelidiales, Gracilariales, Ceramiales)), Glaucocystophyceae (Glaucocystis, Cyanophora, Gloeochaete), Viridiplantae (Chlorophyta (Prasinophyceae,UTC Clade (Ulvophyceae, Trebouxiophyceae, Chlorophyceae)), Streptophyta (Charophyta (Charales, Chlorokybales, Coleochaetales, Klebsormidiales, Zygnematales), Embryophytae (Bryophytes (Marchantiophyta, Anthocerotophyta, Brophyta, Horneophytopsida), Tracheophyta (Lycopodiophyta (Isoetopsida (Isoetales, Selaginellales), Lycopodiopsida (Lycopodiales)), Euphyllophyta (Moniliformopses (Equisetopsida, Filicopsida, Psilotopsida), Spermatophyta, (Gymnosperm (Pinophyta, Cycadophyta, Ginkgophyta, Gnetophyta, Pinophyta), Angiosperms))))))'\n",
    "ArchaePlastida=Phylo.parse(StringIO(Aplastida),'newick').__next__()"
   ]
  },
  {
   "cell_type": "code",
   "execution_count": 8,
   "metadata": {
    "collapsed": true
   },
   "outputs": [],
   "source": [
    "from subprocess import call\n",
    "call(['ls','around*','>aroundlist'])\n",
    "aroundfiles=[]\n",
    "with open('aroundlist','r')as f:\n",
    "    aroundfiles=f.readlines()"
   ]
  },
  {
   "cell_type": "code",
   "execution_count": 11,
   "metadata": {
    "collapsed": false
   },
   "outputs": [
    {
     "data": {
      "text/plain": [
       "'around40x2**13_t1=-24.0,t2=71.0,thet:((0.697,0.863),(1.05,0.804),len=(0.81,0.63).svg'"
      ]
     },
     "execution_count": 11,
     "metadata": {},
     "output_type": "execute_result"
    }
   ],
   "source": [
    "for a in aroundfile:\n",
    "    call(['inkscape','-f',a.strip(),'-D'"
   ]
  },
  {
   "cell_type": "code",
   "execution_count": null,
   "metadata": {
    "collapsed": true
   },
   "outputs": [],
   "source": [
    "is there some matrix that will keep  hue and saturation same, while modifying lightness?\n"
   ]
  }
 ],
 "metadata": {
  "kernelspec": {
   "display_name": "Python 3",
   "language": "python",
   "name": "python3"
  },
  "language_info": {
   "codemirror_mode": {
    "name": "ipython",
    "version": 3
   },
   "file_extension": ".py",
   "mimetype": "text/x-python",
   "name": "python",
   "nbconvert_exporter": "python",
   "pygments_lexer": "ipython3",
   "version": "3.5.0"
  }
 },
 "nbformat": 4,
 "nbformat_minor": 0
}
