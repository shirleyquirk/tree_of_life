{
 "cells": [
  {
   "cell_type": "code",
   "execution_count": 313,
   "metadata": {
    "collapsed": false
   },
   "outputs": [],
   "source": [
    "import betterpath\n",
    "import importlib,sys\n",
    "for m in ['betterpath']:\n",
    "    if m in sys.modules.keys():\n",
    "        importlib.reload(sys.modules[m]) \n",
    "\n",
    "from betterpath import _int\n",
    "import matplotlib.pyplot as plt\n",
    "import numpy as np\n",
    "import math"
   ]
  },
  {
   "cell_type": "code",
   "execution_count": 271,
   "metadata": {
    "collapsed": false
   },
   "outputs": [
    {
     "name": "stdout",
     "output_type": "stream",
     "text": [
      "Using matplotlib backend: Qt5Agg\n"
     ]
    },
    {
     "data": {
      "text/plain": [
       "[<matplotlib.lines.Line2D at 0x7fadbb988400>]"
      ]
     },
     "execution_count": 271,
     "metadata": {},
     "output_type": "execute_result"
    }
   ],
   "source": [
    "\n",
    "%matplotlib\n",
    "pi=(Poly(cp_coefs[3])).integrate()\n",
    "ret=[]\n",
    "c0,c1=(-1,1)\n",
    "theta=pi._(c0)+(-1 if c0<0 else 1)*pi\n",
    "polycos=betterpath.cos(theta,6)#gives good cos from -pi to pi\n",
    "polyx=(polycos*(1/(c1-c0))).integrate()\n",
    "\n",
    "polysin=betterpath.sin(theta,6)\n",
    "polyy=(polysin*(1/(c1-c0))).integrate()\n",
    "\n",
    "s=np.arange(c0,c1,0.1)\n",
    "plt.plot([polyx._(i) for i in s],[polyy._(i) for i in s],'bs')\n"
   ]
  },
  {
   "cell_type": "code",
   "execution_count": 306,
   "metadata": {
    "collapsed": false,
    "scrolled": true
   },
   "outputs": [
    {
     "name": "stdout",
     "output_type": "stream",
     "text": [
      "Using matplotlib backend: Qt5Agg\n"
     ]
    },
    {
     "data": {
      "text/plain": [
       "[<matplotlib.lines.Line2D at 0x7fadb8ef8320>]"
      ]
     },
     "execution_count": 306,
     "metadata": {},
     "output_type": "execute_result"
    }
   ],
   "source": [
    "\n",
    "%matplotlib\n",
    "pi=(Poly(cp_coefs[3])).integrate()\n",
    "\n",
    "c0,c1=(-2,2)\n",
    "theta=pi._(c0)+(-1 if c0<0 else 1)*pi\n",
    "polycos=betterpath.cos(theta,10)#gives good cos from -pi to pi\n",
    "polyx=(polycos*(1/(c1-c0))).integrate()\n",
    "\n",
    "\n",
    "polysin=betterpath.sin(theta,10)\n",
    "polyy=(polysin*(1/(c1-c0))).integrate()\n",
    "\n",
    "\n",
    "\n",
    "s1=np.arange(-1,1,0.1)\n",
    "plt.plot([polyx._(i) for i in s1],[polyy._(i) for i in s1],'bs')\n",
    "\n"
   ]
  },
  {
   "cell_type": "code",
   "execution_count": 115,
   "metadata": {
    "collapsed": false
   },
   "outputs": [
    {
     "data": {
      "text/plain": [
       "[(0.999999999995157, -1.288420333225578e-10),\n",
       " (0.553311564194376, -0.8339833561097836),\n",
       " (0.030563731035573805, -1.0042358422811215),\n",
       " (0.553311564194376, -0.8339833561097836),\n",
       " (0.999999999995157, -1.288420333225578e-10)]"
      ]
     },
     "execution_count": 115,
     "metadata": {},
     "output_type": "execute_result"
    }
   ],
   "source": [
    "from betterpath import Poly,cp_coefs\n",
    "pi=(Poly(cp_coefs[3])).integrate()\n",
    "#pi[0]+=t0\n",
    "c0=1\n",
    "theta=-pi._(c0)+(-1 if c0<0 else 1)*pi\n",
    "xp=betterpath.cos(theta,3)\n",
    "yp=betterpath.sin(theta,3)\n",
    "[(xp._(abs(i)),yp._(abs(i))) for i in [-1,-0.5,0,0.5,1]]\n"
   ]
  },
  {
   "cell_type": "code",
   "execution_count": 95,
   "metadata": {
    "collapsed": false
   },
   "outputs": [
    {
     "data": {
      "text/plain": [
       "(-1.559356551937229, 1.559356551937229)"
      ]
     },
     "execution_count": 95,
     "metadata": {},
     "output_type": "execute_result"
    }
   ],
   "source": [
    "def definite(p,a,b):\n",
    "    if a<0:\n",
    "        if b<0:\n",
    "            return (p._(a)-p._(b))\n",
    "            #return (p._(a)+p._(abs(b)))\n",
    "        else:#b>0\n",
    "            return (p._(a)+p._(b))\n",
    "            #return (p._(a)+p._(abs(b)))\n",
    "    else:\n",
    "        if b>0:\n",
    "            return (p._(a)-p._(b))\n",
    "            #return (p._(a)+(-1 if a<0 else 1)p._(abs(b)))\n",
    "        else:#b<0\n",
    "            return (p._(a)+p._(b))"
   ]
  },
  {
   "cell_type": "code",
   "execution_count": 93,
   "metadata": {
    "collapsed": false
   },
   "outputs": [
    {
     "data": {
      "text/plain": [
       "[0,\n",
       " 0,\n",
       " 0.0,\n",
       " -2.372404646666667,\n",
       " 4.595470025,\n",
       " -12.350444712,\n",
       " 17.98616454,\n",
       " -15.138204254285714,\n",
       " 7.7241856725,\n",
       " -2.3840080666666665,\n",
       " 0.410639352,\n",
       " -0.030754461818181814]"
      ]
     },
     "execution_count": 93,
     "metadata": {},
     "output_type": "execute_result"
    }
   ],
   "source": [
    "(-1)*pi"
   ]
  },
  {
   "cell_type": "code",
   "execution_count": 53,
   "metadata": {
    "collapsed": false
   },
   "outputs": [
    {
     "data": {
      "text/plain": [
       "(-1.559356551937229,\n",
       " 1.559356551937229,\n",
       " -214.64648826005214,\n",
       " 214.64648826005214)"
      ]
     },
     "execution_count": 53,
     "metadata": {},
     "output_type": "execute_result"
    }
   ],
   "source": [
    "pi=Poly(betterpath.cp_coefs[3]).integrate()\n",
    "pi._(-1),pi._(1),pi._(-10),pi._(10)"
   ]
  },
  {
   "cell_type": "code",
   "execution_count": 63,
   "metadata": {
    "collapsed": false
   },
   "outputs": [
    {
     "data": {
      "text/plain": [
       "[[0.0, -0.9859664903378028, -1.559356551937229, -0.9859664903378028, 0.0],\n",
       " [0.0, 0.9859664903378028, 1.559356551937229, 0.9859664903378028, 0.0]]"
      ]
     },
     "execution_count": 63,
     "metadata": {},
     "output_type": "execute_result"
    }
   ],
   "source": [
    "def definite(p,a,b):\n",
    "    if a<0:\n",
    "        if b<0:\n",
    "            return (p._(a)-p._(b))\n",
    "        else:\n",
    "            return (p._(a)+p._(b))\n",
    "    else:\n",
    "        if b>0:\n",
    "            return (p._(a)-p._(b))\n",
    "        else:\n",
    "            return (p._(a)+p._(b))\n",
    "[[definite(pi,a,b) for b in [-1,-0.5,0,0.5,1]] for a in [-1,1]]"
   ]
  },
  {
   "cell_type": "markdown",
   "metadata": {},
   "source": [
    "import numpy as np\n",
    "i want x(t)=x_0+x_1*t+x_2*t^2+...+x_n*t^n\n",
    "  and  y(t)=y_0+y_1*t+y_2*t^2+...+y_n*t^n\n",
    "given\n",
    "x'(t)*y\"(t)+y'(t)*x\"(t)\n",
    "--------------------------   = K(t)\n",
    "(x'(t)^2+y'(t)^2)^(3/2)\n",
    "\n",
    "that bottom bit's a bastard."
   ]
  },
  {
   "cell_type": "code",
   "execution_count": 318,
   "metadata": {
    "collapsed": false
   },
   "outputs": [
    {
     "data": {
      "text/plain": [
       "[6, 7, 8, 9, 0]"
      ]
     },
     "execution_count": 318,
     "metadata": {},
     "output_type": "execute_result"
    }
   ],
   "source": [
    "xy=[1,2,3,4,5,6,7,8,9,0]\n",
    "xy[5:]"
   ]
  },
  {
   "cell_type": "code",
   "execution_count": 363,
   "metadata": {
    "collapsed": false,
    "scrolled": true
   },
   "outputs": [
    {
     "data": {
      "text/plain": [
       "    nfev: 294\n",
       "  status: 0\n",
       "       x: array([  2.58792896e+00,   2.58792896e+00,   2.58792896e+00,\n",
       "         2.58792896e+00,   2.58792896e+00,   2.58792896e+00,\n",
       "         2.58792896e+00,   2.58792896e+00,   2.58792896e+00,\n",
       "         2.58792896e+00,   3.26434431e-07,   2.58792896e+00,\n",
       "        -1.35364929e-07,   7.37515142e-08,   8.82399237e-08,\n",
       "         1.29709830e-07,   2.14167302e-07,   3.86698599e-07,\n",
       "         7.58233963e-07,   1.60289901e-06])\n",
       "     fun: array(35.845433443411586)\n",
       " message: 'Optimization terminated successfully.'\n",
       "     nit: 1\n",
       " success: True\n",
       "   direc: array([[ 1.,  0.,  0.,  0.,  0.,  0.,  0.,  0.,  0.,  0.,  0.,  0.,  0.,\n",
       "         0.,  0.,  0.,  0.,  0.,  0.,  0.],\n",
       "       [ 0.,  1.,  0.,  0.,  0.,  0.,  0.,  0.,  0.,  0.,  0.,  0.,  0.,\n",
       "         0.,  0.,  0.,  0.,  0.,  0.,  0.],\n",
       "       [ 0.,  0.,  1.,  0.,  0.,  0.,  0.,  0.,  0.,  0.,  0.,  0.,  0.,\n",
       "         0.,  0.,  0.,  0.,  0.,  0.,  0.],\n",
       "       [ 0.,  0.,  0.,  1.,  0.,  0.,  0.,  0.,  0.,  0.,  0.,  0.,  0.,\n",
       "         0.,  0.,  0.,  0.,  0.,  0.,  0.],\n",
       "       [ 0.,  0.,  0.,  0.,  1.,  0.,  0.,  0.,  0.,  0.,  0.,  0.,  0.,\n",
       "         0.,  0.,  0.,  0.,  0.,  0.,  0.],\n",
       "       [ 0.,  0.,  0.,  0.,  0.,  1.,  0.,  0.,  0.,  0.,  0.,  0.,  0.,\n",
       "         0.,  0.,  0.,  0.,  0.,  0.,  0.],\n",
       "       [ 0.,  0.,  0.,  0.,  0.,  0.,  1.,  0.,  0.,  0.,  0.,  0.,  0.,\n",
       "         0.,  0.,  0.,  0.,  0.,  0.,  0.],\n",
       "       [ 0.,  0.,  0.,  0.,  0.,  0.,  0.,  1.,  0.,  0.,  0.,  0.,  0.,\n",
       "         0.,  0.,  0.,  0.,  0.,  0.,  0.],\n",
       "       [ 0.,  0.,  0.,  0.,  0.,  0.,  0.,  0.,  1.,  0.,  0.,  0.,  0.,\n",
       "         0.,  0.,  0.,  0.,  0.,  0.,  0.],\n",
       "       [ 0.,  0.,  0.,  0.,  0.,  0.,  0.,  0.,  0.,  1.,  0.,  0.,  0.,\n",
       "         0.,  0.,  0.,  0.,  0.,  0.,  0.],\n",
       "       [ 0.,  0.,  0.,  0.,  0.,  0.,  0.,  0.,  0.,  0.,  1.,  0.,  0.,\n",
       "         0.,  0.,  0.,  0.,  0.,  0.,  0.],\n",
       "       [ 0.,  0.,  0.,  0.,  0.,  0.,  0.,  0.,  0.,  0.,  0.,  1.,  0.,\n",
       "         0.,  0.,  0.,  0.,  0.,  0.,  0.],\n",
       "       [ 0.,  0.,  0.,  0.,  0.,  0.,  0.,  0.,  0.,  0.,  0.,  0.,  1.,\n",
       "         0.,  0.,  0.,  0.,  0.,  0.,  0.],\n",
       "       [ 0.,  0.,  0.,  0.,  0.,  0.,  0.,  0.,  0.,  0.,  0.,  0.,  0.,\n",
       "         1.,  0.,  0.,  0.,  0.,  0.,  0.],\n",
       "       [ 0.,  0.,  0.,  0.,  0.,  0.,  0.,  0.,  0.,  0.,  0.,  0.,  0.,\n",
       "         0.,  1.,  0.,  0.,  0.,  0.,  0.],\n",
       "       [ 0.,  0.,  0.,  0.,  0.,  0.,  0.,  0.,  0.,  0.,  0.,  0.,  0.,\n",
       "         0.,  0.,  1.,  0.,  0.,  0.,  0.],\n",
       "       [ 0.,  0.,  0.,  0.,  0.,  0.,  0.,  0.,  0.,  0.,  0.,  0.,  0.,\n",
       "         0.,  0.,  0.,  1.,  0.,  0.,  0.],\n",
       "       [ 0.,  0.,  0.,  0.,  0.,  0.,  0.,  0.,  0.,  0.,  0.,  0.,  0.,\n",
       "         0.,  0.,  0.,  0.,  1.,  0.,  0.],\n",
       "       [ 0.,  0.,  0.,  0.,  0.,  0.,  0.,  0.,  0.,  0.,  0.,  0.,  0.,\n",
       "         0.,  0.,  0.,  0.,  0.,  1.,  0.],\n",
       "       [ 0.,  0.,  0.,  0.,  0.,  0.,  0.,  0.,  0.,  0.,  0.,  0.,  0.,\n",
       "         0.,  0.,  0.,  0.,  0.,  0.,  1.]])"
      ]
     },
     "execution_count": 363,
     "metadata": {},
     "output_type": "execute_result"
    }
   ],
   "source": [
    "order=10\n",
    "from scipy import optimize\n",
    "from betterpath import whole_poly\n",
    "def fitfunc(x,y,t):\n",
    "    #x[1]=0,x[3]=0,y[1]=0,y[3]=0, in fact, why not just whole numbers. fuck it.\n",
    "    x=whole_poly(np.concatenate(([0],x)))#assume x(0)==0\n",
    "    y=whole_poly(np.concatenate(([0],y)))# and  y(0)==0\n",
    "    d=(x.deriv()**2+y.deriv()**2)._(t)\n",
    "    if d==0:\n",
    "        return 0\n",
    "    else:\n",
    "        return (x.deriv()*y.deriv().deriv()+(-1)*y.deriv()*x.deriv().deriv())._(t)/(d)**(3/2)\n",
    "def K(c,i):#curvature given c from -10 to 10\n",
    "    return Poly(betterpath.cp_coefs[i])._(c)\n",
    "def errorfunc(xy):\n",
    "    error=0\n",
    "    x=xy[:order]\n",
    "    y=xy[order:]\n",
    "    #for c in range(-10,10):\n",
    "    for s in range(101):\n",
    "        s=s/100\n",
    "        c0,c1=(-10,10)\n",
    "        error+=(fitfunc(x,y,s)-K(c0+(c1-c0)*s,3))**2\n",
    "    return math.sqrt(error)\n",
    "guess=np.array([0]*(2*order))\n",
    "res=optimize.minimize(errorfunc,guess,method='Powell')\n",
    "res"
   ]
  },
  {
   "cell_type": "code",
   "execution_count": 362,
   "metadata": {
    "collapsed": false
   },
   "outputs": [
    {
     "data": {
      "text/plain": [
       "(82.579961171871, 82.66807589049817)"
      ]
     },
     "execution_count": 362,
     "metadata": {},
     "output_type": "execute_result"
    }
   ],
   "source": [
    "errorfunc(res['x']),errorfunc(guess)"
   ]
  },
  {
   "cell_type": "code",
   "execution_count": null,
   "metadata": {
    "collapsed": true
   },
   "outputs": [],
   "source": []
  }
 ],
 "metadata": {
  "kernelspec": {
   "display_name": "Python 3",
   "language": "python",
   "name": "python3"
  },
  "language_info": {
   "codemirror_mode": {
    "name": "ipython",
    "version": 3
   },
   "file_extension": ".py",
   "mimetype": "text/x-python",
   "name": "python",
   "nbconvert_exporter": "python",
   "pygments_lexer": "ipython3",
   "version": "3.5.0"
  }
 },
 "nbformat": 4,
 "nbformat_minor": 0
}
